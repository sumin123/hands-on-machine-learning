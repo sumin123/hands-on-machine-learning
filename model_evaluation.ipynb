{
 "cells": [
  {
   "cell_type": "code",
   "execution_count": 1,
   "id": "630c3148",
   "metadata": {},
   "outputs": [],
   "source": [
    "import pandas as pd\n",
    "import numpy as np\n",
    "import matplotlib.pyplot as plt\n",
    "import seaborn as sns"
   ]
  },
  {
   "cell_type": "code",
   "execution_count": null,
   "id": "c5be3b85",
   "metadata": {},
   "outputs": [],
   "source": []
  },
  {
   "cell_type": "code",
   "execution_count": 2,
   "id": "0cba46c2",
   "metadata": {},
   "outputs": [],
   "source": [
    "from sklearn.datasets import load_digits\n",
    "from sklearn.model_selection import train_test_split\n",
    "from sklearn import datasets\n",
    "import mglearn\n",
    "from IPython.display import display"
   ]
  },
  {
   "cell_type": "code",
   "execution_count": 3,
   "id": "304c0698",
   "metadata": {},
   "outputs": [],
   "source": [
    "digits = load_digits()"
   ]
  },
  {
   "cell_type": "code",
   "execution_count": 4,
   "id": "3c4c0e56",
   "metadata": {},
   "outputs": [],
   "source": [
    "x = digits.data\n",
    "y = digits.target"
   ]
  },
  {
   "cell_type": "code",
   "execution_count": 5,
   "id": "121dca5a",
   "metadata": {},
   "outputs": [
    {
     "data": {
      "text/plain": [
       "(1797, 64)"
      ]
     },
     "execution_count": 5,
     "metadata": {},
     "output_type": "execute_result"
    }
   ],
   "source": [
    "x.shape"
   ]
  },
  {
   "cell_type": "code",
   "execution_count": 6,
   "id": "74e6a8c7",
   "metadata": {},
   "outputs": [
    {
     "data": {
      "text/plain": [
       "(1797,)"
      ]
     },
     "execution_count": 6,
     "metadata": {},
     "output_type": "execute_result"
    }
   ],
   "source": [
    "y.shape"
   ]
  },
  {
   "cell_type": "code",
   "execution_count": null,
   "id": "2ac07837",
   "metadata": {},
   "outputs": [],
   "source": []
  },
  {
   "cell_type": "code",
   "execution_count": 7,
   "id": "e4743ca8",
   "metadata": {},
   "outputs": [
    {
     "data": {
      "text/plain": [
       "array([[ 0.,  0.,  0.,  4., 15., 12.,  0.,  0.],\n",
       "       [ 0.,  0.,  3., 16., 15., 14.,  0.,  0.],\n",
       "       [ 0.,  0.,  8., 13.,  8., 16.,  0.,  0.],\n",
       "       [ 0.,  0.,  1.,  6., 15., 11.,  0.,  0.],\n",
       "       [ 0.,  1.,  8., 13., 15.,  1.,  0.,  0.],\n",
       "       [ 0.,  9., 16., 16.,  5.,  0.,  0.,  0.],\n",
       "       [ 0.,  3., 13., 16., 16., 11.,  5.,  0.],\n",
       "       [ 0.,  0.,  0.,  3., 11., 16.,  9.,  0.]])"
      ]
     },
     "execution_count": 7,
     "metadata": {},
     "output_type": "execute_result"
    }
   ],
   "source": [
    "x[2].reshape(8,8)"
   ]
  },
  {
   "cell_type": "code",
   "execution_count": 8,
   "id": "d26bf0b3",
   "metadata": {},
   "outputs": [
    {
     "data": {
      "text/plain": [
       "<matplotlib.image.AxesImage at 0x2623a407be0>"
      ]
     },
     "execution_count": 8,
     "metadata": {},
     "output_type": "execute_result"
    },
    {
     "data": {
      "image/png": "[encoded data removed]",
      "text/plain": [
       "<Figure size 432x288 with 1 Axes>"
      ]
     },
     "metadata": {
      "needs_background": "light"
     },
     "output_type": "display_data"
    }
   ],
   "source": [
    "plt.imshow(x[55].reshape(8,8))"
   ]
  },
  {
   "cell_type": "code",
   "execution_count": 9,
   "id": "8eddf2dc",
   "metadata": {},
   "outputs": [
    {
     "data": {
      "text/plain": [
       "0"
      ]
     },
     "execution_count": 9,
     "metadata": {},
     "output_type": "execute_result"
    }
   ],
   "source": [
    "y[55]"
   ]
  },
  {
   "cell_type": "code",
   "execution_count": 10,
   "id": "4f5c7d8a",
   "metadata": {},
   "outputs": [
    {
     "data": {
      "text/plain": [
       "3    183\n",
       "1    182\n",
       "5    182\n",
       "4    181\n",
       "6    181\n",
       "9    180\n",
       "7    179\n",
       "0    178\n",
       "2    177\n",
       "8    174\n",
       "dtype: int64"
      ]
     },
     "execution_count": 10,
     "metadata": {},
     "output_type": "execute_result"
    }
   ],
   "source": [
    "pd.Series(y).value_counts()"
   ]
  },
  {
   "cell_type": "code",
   "execution_count": null,
   "id": "c655fa00",
   "metadata": {},
   "outputs": [],
   "source": []
  },
  {
   "cell_type": "code",
   "execution_count": 11,
   "id": "b3df7ec8",
   "metadata": {},
   "outputs": [],
   "source": [
    " y = y == 9"
   ]
  },
  {
   "cell_type": "code",
   "execution_count": 12,
   "id": "f311082f",
   "metadata": {},
   "outputs": [
    {
     "data": {
      "text/plain": [
       "False    0.899833\n",
       "True     0.100167\n",
       "dtype: float64"
      ]
     },
     "execution_count": 12,
     "metadata": {},
     "output_type": "execute_result"
    }
   ],
   "source": [
    "pd.Series(y).value_counts()/len(y)  # imbalanced dataset"
   ]
  },
  {
   "cell_type": "code",
   "execution_count": null,
   "id": "cd572719",
   "metadata": {},
   "outputs": [],
   "source": []
  },
  {
   "cell_type": "code",
   "execution_count": 13,
   "id": "2f04438c",
   "metadata": {},
   "outputs": [],
   "source": [
    "x_train, x_test, y_train, y_test = train_test_split(x,y, random_state=111)"
   ]
  },
  {
   "cell_type": "code",
   "execution_count": null,
   "id": "a3812efa",
   "metadata": {},
   "outputs": [],
   "source": []
  },
  {
   "cell_type": "code",
   "execution_count": 14,
   "id": "46a947d1",
   "metadata": {},
   "outputs": [],
   "source": [
    "from sklearn.dummy import DummyClassifier\n",
    "\n",
    "# 다수의 클래스로 예측하는 classifier생성 - 위의 데이터에 대해 100% False로만 예측\n",
    "dummy_majority = DummyClassifier(strategy='most_frequent').fit(x_train, y_train)"
   ]
  },
  {
   "cell_type": "code",
   "execution_count": 15,
   "id": "f03fd4cb",
   "metadata": {},
   "outputs": [
    {
     "data": {
      "text/plain": [
       "array([False, False, False, False, False, False, False, False, False,\n",
       "       False, False, False, False, False, False, False, False, False,\n",
       "       False, False, False, False, False, False, False, False, False,\n",
       "       False, False, False, False, False, False, False, False, False,\n",
       "       False, False, False, False, False, False, False, False, False,\n",
       "       False, False, False, False, False, False, False, False, False,\n",
       "       False, False, False, False, False, False, False, False, False,\n",
       "       False, False, False, False, False, False, False, False, False,\n",
       "       False, False, False, False, False, False, False, False, False,\n",
       "       False, False, False, False, False, False, False, False, False,\n",
       "       False, False, False, False, False, False, False, False, False,\n",
       "       False, False, False, False, False, False, False, False, False,\n",
       "       False, False, False, False, False, False, False, False, False,\n",
       "       False, False, False, False, False, False, False, False, False,\n",
       "       False, False, False, False, False, False, False, False, False,\n",
       "       False, False, False, False, False, False, False, False, False,\n",
       "       False, False, False, False, False, False, False, False, False,\n",
       "       False, False, False, False, False, False, False, False, False,\n",
       "       False, False, False, False, False, False, False, False, False,\n",
       "       False, False, False, False, False, False, False, False, False,\n",
       "       False, False, False, False, False, False, False, False, False,\n",
       "       False, False, False, False, False, False, False, False, False,\n",
       "       False, False, False, False, False, False, False, False, False,\n",
       "       False, False, False, False, False, False, False, False, False,\n",
       "       False, False, False, False, False, False, False, False, False,\n",
       "       False, False, False, False, False, False, False, False, False,\n",
       "       False, False, False, False, False, False, False, False, False,\n",
       "       False, False, False, False, False, False, False, False, False,\n",
       "       False, False, False, False, False, False, False, False, False,\n",
       "       False, False, False, False, False, False, False, False, False,\n",
       "       False, False, False, False, False, False, False, False, False,\n",
       "       False, False, False, False, False, False, False, False, False,\n",
       "       False, False, False, False, False, False, False, False, False,\n",
       "       False, False, False, False, False, False, False, False, False,\n",
       "       False, False, False, False, False, False, False, False, False,\n",
       "       False, False, False, False, False, False, False, False, False,\n",
       "       False, False, False, False, False, False, False, False, False,\n",
       "       False, False, False, False, False, False, False, False, False,\n",
       "       False, False, False, False, False, False, False, False, False,\n",
       "       False, False, False, False, False, False, False, False, False,\n",
       "       False, False, False, False, False, False, False, False, False,\n",
       "       False, False, False, False, False, False, False, False, False,\n",
       "       False, False, False, False, False, False, False, False, False,\n",
       "       False, False, False, False, False, False, False, False, False,\n",
       "       False, False, False, False, False, False, False, False, False,\n",
       "       False, False, False, False, False, False, False, False, False,\n",
       "       False, False, False, False, False, False, False, False, False,\n",
       "       False, False, False, False, False, False, False, False, False,\n",
       "       False, False, False, False, False, False, False, False, False,\n",
       "       False, False, False, False, False, False, False, False, False])"
      ]
     },
     "execution_count": 15,
     "metadata": {},
     "output_type": "execute_result"
    }
   ],
   "source": [
    "preds = dummy_majority.predict(x_test)\n",
    "preds"
   ]
  },
  {
   "cell_type": "code",
   "execution_count": 16,
   "id": "f0374824",
   "metadata": {},
   "outputs": [
    {
     "data": {
      "text/plain": [
       "0.8955555555555555"
      ]
     },
     "execution_count": 16,
     "metadata": {},
     "output_type": "execute_result"
    }
   ],
   "source": [
    "np.mean(y_test == preds)"
   ]
  },
  {
   "cell_type": "code",
   "execution_count": 17,
   "id": "a176e9ef",
   "metadata": {},
   "outputs": [
    {
     "data": {
      "text/plain": [
       "0.8955555555555555"
      ]
     },
     "execution_count": 17,
     "metadata": {},
     "output_type": "execute_result"
    }
   ],
   "source": [
    "dummy_majority.score(x_test, y_test)\n",
    "\n",
    "# 전혀 분류능력이 없는 classifier가 90%의 accuracy score를 기록.. <= imbalanced data\n",
    "# => accuracy의 한계.. => precision, recall, f1_score, auc_score...."
   ]
  },
  {
   "cell_type": "code",
   "execution_count": null,
   "id": "7f15bce4",
   "metadata": {},
   "outputs": [],
   "source": []
  },
  {
   "cell_type": "code",
   "execution_count": 18,
   "id": "bca924ae",
   "metadata": {},
   "outputs": [
    {
     "name": "stdout",
     "output_type": "stream",
     "text": [
      "Tree : 0.95 Knn : 1.0 SVC : 1.0 dummy : 0.9\n"
     ]
    }
   ],
   "source": [
    "# accuracy\n",
    "\n",
    "from sklearn.tree import DecisionTreeClassifier\n",
    "from sklearn.neighbors import KNeighborsClassifier\n",
    "from sklearn.svm import SVC\n",
    "\n",
    "tree = DecisionTreeClassifier()\n",
    "knn = KNeighborsClassifier()\n",
    "svc = SVC()\n",
    "\n",
    "tree.fit(x_train, y_train)\n",
    "knn.fit(x_train, y_train)\n",
    "svc.fit(x_train, y_train)\n",
    "\n",
    "tree_acc = tree.score(x_test, y_test)\n",
    "knn_acc = knn.score(x_test, y_test)\n",
    "svc_acc = svc.score(x_test, y_test)\n",
    "dummy_acc = dummy_majority.score(x_test, y_test)\n",
    "\n",
    "print('Tree :', round(tree_acc,2), 'Knn :', round(knn_acc,2), \\\n",
    "      'SVC :', round(svc_acc,2), 'dummy :', round(dummy_acc,2))"
   ]
  },
  {
   "cell_type": "code",
   "execution_count": null,
   "id": "0addfe25",
   "metadata": {},
   "outputs": [],
   "source": []
  },
  {
   "cell_type": "code",
   "execution_count": 19,
   "id": "79498846",
   "metadata": {},
   "outputs": [],
   "source": [
    "from sklearn.metrics import f1_score"
   ]
  },
  {
   "cell_type": "code",
   "execution_count": 20,
   "id": "5068b5fc",
   "metadata": {},
   "outputs": [
    {
     "name": "stdout",
     "output_type": "stream",
     "text": [
      "Tree : 0.77 Knn : 0.99 SVC : 0.99 dummy : 0.0\n"
     ]
    }
   ],
   "source": [
    "# f1_score\n",
    "\n",
    "tree = DecisionTreeClassifier()\n",
    "knn = KNeighborsClassifier()\n",
    "svc = SVC()\n",
    "\n",
    "tree.fit(x_train, y_train)\n",
    "knn.fit(x_train, y_train)\n",
    "svc.fit(x_train, y_train)\n",
    "\n",
    "tree_preds = tree.predict(x_test)\n",
    "knn_preds = knn.predict(x_test)\n",
    "svc_preds = svc.predict(x_test)\n",
    "dummy_preds = dummy_majority.predict(x_test)\n",
    "\n",
    "tree_f1 = f1_score(tree_preds, y_test)\n",
    "knn_f1 = f1_score(knn_preds, y_test)\n",
    "svc_f1 = f1_score(svc_preds, y_test)\n",
    "dummy_f1 = f1_score(dummy_preds, y_test)\n",
    "\n",
    "print('Tree :', round(tree_f1,2), 'Knn :', round(knn_f1,2), \\\n",
    "      'SVC :', round(svc_f1,2), 'dummy :', round(dummy_f1,2))"
   ]
  },
  {
   "cell_type": "code",
   "execution_count": null,
   "id": "3e0ba0d4",
   "metadata": {},
   "outputs": [],
   "source": []
  },
  {
   "cell_type": "code",
   "execution_count": 21,
   "id": "eeb0c53a",
   "metadata": {},
   "outputs": [],
   "source": [
    "from sklearn.metrics import classification_report, confusion_matrix"
   ]
  },
  {
   "cell_type": "code",
   "execution_count": null,
   "id": "c318149e",
   "metadata": {},
   "outputs": [],
   "source": []
  },
  {
   "cell_type": "code",
   "execution_count": 22,
   "id": "94698efc",
   "metadata": {},
   "outputs": [
    {
     "data": {
      "text/plain": [
       "array([[393,  11],\n",
       "       [ 10,  36]], dtype=int64)"
      ]
     },
     "execution_count": 22,
     "metadata": {},
     "output_type": "execute_result"
    }
   ],
   "source": [
    "cm = confusion_matrix(tree_preds, y_test)\n",
    "cm"
   ]
  },
  {
   "cell_type": "code",
   "execution_count": 23,
   "id": "95cf53c9",
   "metadata": {},
   "outputs": [
    {
     "data": {
      "text/html": [
       "<div>\n",
       "<style scoped>\n",
       "    .dataframe tbody tr th:only-of-type {\n",
       "        vertical-align: middle;\n",
       "    }\n",
       "\n",
       "    .dataframe tbody tr th {\n",
       "        vertical-align: top;\n",
       "    }\n",
       "\n",
       "    .dataframe thead th {\n",
       "        text-align: right;\n",
       "    }\n",
       "</style>\n",
       "<table border=\"1\" class=\"dataframe\">\n",
       "  <thead>\n",
       "    <tr style=\"text-align: right;\">\n",
       "      <th></th>\n",
       "      <th>0</th>\n",
       "      <th>1</th>\n",
       "    </tr>\n",
       "  </thead>\n",
       "  <tbody>\n",
       "    <tr>\n",
       "      <th>0</th>\n",
       "      <td>393</td>\n",
       "      <td>11</td>\n",
       "    </tr>\n",
       "    <tr>\n",
       "      <th>1</th>\n",
       "      <td>10</td>\n",
       "      <td>36</td>\n",
       "    </tr>\n",
       "  </tbody>\n",
       "</table>\n",
       "</div>"
      ],
      "text/plain": [
       "     0   1\n",
       "0  393  11\n",
       "1   10  36"
      ]
     },
     "execution_count": 23,
     "metadata": {},
     "output_type": "execute_result"
    }
   ],
   "source": [
    "pd.DataFrame(cm)  # column - prediction, row - real label"
   ]
  },
  {
   "cell_type": "code",
   "execution_count": 24,
   "id": "b323c7d0",
   "metadata": {},
   "outputs": [
    {
     "data": {
      "text/plain": [
       "0.9533333333333334"
      ]
     },
     "execution_count": 24,
     "metadata": {},
     "output_type": "execute_result"
    }
   ],
   "source": [
    "accuracy = (cm[0,0] + cm[1,1]) / cm.sum()  # 전체 데이터에서 맞춘 데이터 비율\n",
    "accuracy"
   ]
  },
  {
   "cell_type": "code",
   "execution_count": 26,
   "id": "6e86d927",
   "metadata": {},
   "outputs": [
    {
     "data": {
      "text/plain": [
       "0.9751861042183623"
      ]
     },
     "execution_count": 26,
     "metadata": {},
     "output_type": "execute_result"
    }
   ],
   "source": [
    "precision_0 = cm[0,0]/cm[:,0].sum()  #  0이라고 예측했는데 맞츤 비율\n",
    "precision_0"
   ]
  },
  {
   "cell_type": "code",
   "execution_count": 27,
   "id": "dcb75dca",
   "metadata": {},
   "outputs": [
    {
     "data": {
      "text/plain": [
       "0.7659574468085106"
      ]
     },
     "execution_count": 27,
     "metadata": {},
     "output_type": "execute_result"
    }
   ],
   "source": [
    "precision_1 = cm[1,1]/cm[:,1].sum()  #  1이라고 예측했는데 맞츤 비율\n",
    "precision_1"
   ]
  },
  {
   "cell_type": "code",
   "execution_count": 29,
   "id": "19c89446",
   "metadata": {},
   "outputs": [
    {
     "data": {
      "text/plain": [
       "0.9727722772277227"
      ]
     },
     "execution_count": 29,
     "metadata": {},
     "output_type": "execute_result"
    }
   ],
   "source": [
    "recall_0 = cm[0,0]/cm[0,:].sum()  #  실제 0인 데이터를 0이라고 맞춘 비율\n",
    "recall_0"
   ]
  },
  {
   "cell_type": "code",
   "execution_count": 28,
   "id": "753818b6",
   "metadata": {},
   "outputs": [
    {
     "data": {
      "text/plain": [
       "0.782608695652174"
      ]
     },
     "execution_count": 28,
     "metadata": {},
     "output_type": "execute_result"
    }
   ],
   "source": [
    "recall_1= cm[1,1]/cm[1,:].sum()  #  실제 1인 데이터를 0이라고 맞춘 비율\n",
    "recall_1"
   ]
  },
  {
   "cell_type": "code",
   "execution_count": null,
   "id": "02d2693b",
   "metadata": {},
   "outputs": [],
   "source": []
  },
  {
   "cell_type": "code",
   "execution_count": null,
   "id": "e79c00e3",
   "metadata": {},
   "outputs": [],
   "source": []
  },
  {
   "cell_type": "code",
   "execution_count": null,
   "id": "fd69eb1e",
   "metadata": {},
   "outputs": [],
   "source": []
  },
  {
   "cell_type": "code",
   "execution_count": 101,
   "id": "007bc75a",
   "metadata": {},
   "outputs": [],
   "source": [
    "# accuracy = (cm[0,0] + cm[1,1]) / cm.sum()\n",
    "\n",
    "# # 0 class\n",
    "# precision = cm[0,0]/cm[:,0].sum()\n",
    "# recall = cm[0,0]/cm[0,:].sum()"
   ]
  },
  {
   "cell_type": "code",
   "execution_count": null,
   "id": "3c4015eb",
   "metadata": {},
   "outputs": [],
   "source": []
  },
  {
   "cell_type": "code",
   "execution_count": 89,
   "id": "a0a57fc9",
   "metadata": {},
   "outputs": [
    {
     "name": "stdout",
     "output_type": "stream",
     "text": [
      "              precision    recall  f1-score   support\n",
      "\n",
      "       False       0.98      0.98      0.98       402\n",
      "        True       0.81      0.79      0.80        48\n",
      "\n",
      "    accuracy                           0.96       450\n",
      "   macro avg       0.89      0.88      0.89       450\n",
      "weighted avg       0.96      0.96      0.96       450\n",
      "\n"
     ]
    }
   ],
   "source": [
    "print(classification_report(tree_preds, y_test))"
   ]
  },
  {
   "cell_type": "code",
   "execution_count": null,
   "id": "649e203c",
   "metadata": {},
   "outputs": [],
   "source": []
  },
  {
   "cell_type": "code",
   "execution_count": null,
   "id": "52c12482",
   "metadata": {},
   "outputs": [],
   "source": []
  },
  {
   "cell_type": "code",
   "execution_count": null,
   "id": "f5f770db",
   "metadata": {},
   "outputs": [],
   "source": [
    "# 모든 머신러닝 모델은 내부적으로 확률값을 리턴.."
   ]
  },
  {
   "cell_type": "code",
   "execution_count": 30,
   "id": "75f0d035",
   "metadata": {
    "collapsed": true
   },
   "outputs": [
    {
     "name": "stdout",
     "output_type": "stream",
     "text": [
      "[[ -1.58341978 -22.37156225]\n",
      " [ -4.17570775  -5.96493849]\n",
      " [-13.82618705 -14.40188785]\n",
      " [  0.71057905  -3.81896754]\n",
      " [-16.18799493 -17.86041252]\n",
      " [ -5.04648232 -13.08413534]\n",
      " [ -2.38421045   4.24907617]\n",
      " [ -7.62667962  -7.02174225]\n",
      " [ -4.33194738 -16.93515838]\n",
      " [-10.46971421  -3.7552367 ]] [0 0 0 0 0 0 0 0 0 0]\n"
     ]
    },
    {
     "name": "stderr",
     "output_type": "stream",
     "text": [
      "C:\\Users\\sim\\Anaconda3\\lib\\site-packages\\sklearn\\utils\\deprecation.py:86: FutureWarning: Function make_blobs is deprecated; Please import make_blobs directly from scikit-learn\n",
      "  warnings.warn(msg, category=FutureWarning)\n"
     ]
    }
   ],
   "source": [
    "from mglearn.datasets import make_blobs\n",
    "\n",
    "x, y = make_blobs(n_samples=(400,5), centers=2, cluster_std=[7, 2], random_state=11)\n",
    "print(x[:10],y[:10])"
   ]
  },
  {
   "cell_type": "code",
   "execution_count": 31,
   "id": "6b6d5419",
   "metadata": {},
   "outputs": [],
   "source": [
    "x_train, x_test, y_train, y_test = train_test_split(x,y, random_state=111)"
   ]
  },
  {
   "cell_type": "code",
   "execution_count": 32,
   "id": "c01bf29b",
   "metadata": {},
   "outputs": [
    {
     "data": {
      "text/plain": [
       "array([0, 0, 0, 0, 0, 0, 0, 0, 0, 0, 0, 0, 0, 0, 0, 0, 0, 0, 0, 0, 0, 0,\n",
       "       0, 0, 0, 0, 0, 0, 0, 0, 0, 0, 0, 0, 0, 0, 0, 0, 0, 0, 0, 0, 0, 0,\n",
       "       0, 0, 0, 0, 0, 0, 0, 0, 0, 0, 0, 0, 0, 0, 0, 0, 0, 0, 0, 0, 0, 0,\n",
       "       0, 0, 0, 0, 0, 0, 0, 0, 0, 0, 0, 0, 0, 0, 0, 0, 0, 0, 0, 0, 0, 0,\n",
       "       0, 0, 0, 0, 0, 0, 0, 0, 0, 0, 0, 0, 0, 0])"
      ]
     },
     "execution_count": 32,
     "metadata": {},
     "output_type": "execute_result"
    }
   ],
   "source": [
    "svc = SVC(gamma=0.5, probability=True)\n",
    "svc.fit(x_train, y_train)\n",
    "preds= svc.predict(x_test)   # \n",
    "preds"
   ]
  },
  {
   "cell_type": "code",
   "execution_count": null,
   "id": "d16324ae",
   "metadata": {},
   "outputs": [],
   "source": []
  },
  {
   "cell_type": "code",
   "execution_count": 33,
   "id": "8b2342e9",
   "metadata": {},
   "outputs": [],
   "source": [
    "# predict() : 예측 결과를 리턴\n",
    "\n",
    "# sklearn에서 모델이 내부적으로는 확률값으로 계산..  예측확률값을 리턴하는 함수..\n",
    "# 1. decision_function() - 0을 기준으로. svc\n",
    "# 2. predict_proba() - 0.5를 기준으로, 높은 확률값의 클래스. svc"
   ]
  },
  {
   "cell_type": "code",
   "execution_count": 34,
   "id": "639a5b4a",
   "metadata": {},
   "outputs": [
    {
     "data": {
      "text/plain": [
       "array([-1.00042127, -0.98834083, -1.00017991, -1.00268102, -1.00259514,\n",
       "       -1.0097318 , -0.98095167, -0.99972821, -1.00114562, -0.99806483,\n",
       "       -0.99550865, -0.99961719, -0.99849675, -0.98472113, -0.99423151,\n",
       "       -0.99603354, -0.99907795, -0.99892433, -0.99827454, -0.99601774,\n",
       "       -0.9925531 , -0.99938851, -0.55276913, -0.99923388, -0.99996865,\n",
       "       -0.99892612, -0.99178177, -0.97920177, -0.99391665, -0.99821058,\n",
       "       -0.97968924, -1.00020803, -0.98653578, -0.99996991, -0.99592681,\n",
       "       -1.00038151, -1.00016914, -0.99484696, -1.00007618, -1.00023198,\n",
       "       -1.00127871, -1.00007277, -0.99350691, -0.98912015, -0.97884923,\n",
       "       -0.9934615 , -0.99424342, -0.98915669, -0.99371648, -1.00037992,\n",
       "       -0.99657723, -0.99981443, -0.97809583, -1.00127669, -0.99545891,\n",
       "       -1.00064909, -0.99691643, -0.98011279, -0.99466191, -0.9927486 ,\n",
       "       -0.98245218, -0.99870695, -0.98365529, -0.9927829 , -0.99880466,\n",
       "       -0.99993715, -0.9996613 , -0.99927742, -0.98167611, -1.00089225,\n",
       "       -0.98898447, -1.00194608, -0.99908946, -0.99757007, -0.98851902,\n",
       "       -1.08408283, -0.99185689, -0.99943224, -0.99992557, -0.99758258,\n",
       "       -0.99954431, -1.00096906, -0.98580211, -0.99428994, -0.99805884,\n",
       "       -0.99288868, -0.98130711, -1.00042502, -1.00011663, -0.99408925,\n",
       "       -0.99968208, -0.99884867, -0.99967334, -1.00075821, -0.97809584,\n",
       "       -0.99715313, -0.98766929, -0.98957893, -0.99850777, -1.00028977,\n",
       "       -0.99394016, -0.98928431])"
      ]
     },
     "execution_count": 34,
     "metadata": {},
     "output_type": "execute_result"
    }
   ],
   "source": [
    "svc.decision_function(x_test)  # 0(임계값) 보다 크면 1, 0(임계값) 보다 작으며 0으로 예측.."
   ]
  },
  {
   "cell_type": "code",
   "execution_count": 35,
   "id": "63c8b953",
   "metadata": {},
   "outputs": [
    {
     "data": {
      "text/plain": [
       "array([0, 0, 0, 0, 0, 0, 0, 0, 0, 0, 0, 0, 0, 0, 0, 0, 0, 0, 0, 0, 0, 0,\n",
       "       0, 0, 0, 0, 0, 0, 0, 0, 0, 0, 0, 0, 0, 0, 0, 0, 0, 0, 0, 0, 0, 0,\n",
       "       0, 0, 0, 0, 0, 0, 0, 0, 0, 0, 0, 0, 0, 0, 0, 0, 0, 0, 0, 0, 0, 0,\n",
       "       0, 0, 0, 0, 0, 0, 0, 0, 0, 0, 0, 0, 0, 0, 0, 0, 0, 0, 0, 0, 0, 0,\n",
       "       0, 0, 0, 0, 0, 0, 0, 0, 0, 0, 0, 0, 0, 0])"
      ]
     },
     "execution_count": 35,
     "metadata": {},
     "output_type": "execute_result"
    }
   ],
   "source": [
    "# np.where(조건, true일 경우 보일 값, false일 때 보일값)\n",
    "\n",
    "np.where(svc.decision_function(x_test) > 0, 1, 0)"
   ]
  },
  {
   "cell_type": "code",
   "execution_count": 39,
   "id": "97e9ba1f",
   "metadata": {},
   "outputs": [
    {
     "data": {
      "text/plain": [
       "array([0, 1, 0, 0, 0, 0, 1, 1, 0, 1, 1, 1, 1, 1, 1, 1, 1, 1, 1, 1, 1, 1,\n",
       "       1, 1, 1, 1, 1, 1, 1, 1, 1, 0, 1, 1, 1, 0, 0, 1, 0, 0, 0, 0, 1, 1,\n",
       "       1, 1, 1, 1, 1, 0, 1, 1, 1, 0, 1, 0, 1, 1, 1, 1, 1, 1, 1, 1, 1, 1,\n",
       "       1, 1, 1, 0, 1, 0, 1, 1, 1, 0, 1, 1, 1, 1, 1, 0, 1, 1, 1, 1, 1, 0,\n",
       "       0, 1, 1, 1, 1, 0, 1, 1, 1, 1, 1, 0, 1, 1])"
      ]
     },
     "execution_count": 39,
     "metadata": {},
     "output_type": "execute_result"
    }
   ],
   "source": [
    "np.where(svc.decision_function(x_test) > -1, 1, 0)"
   ]
  },
  {
   "cell_type": "code",
   "execution_count": null,
   "id": "b3c3b86f",
   "metadata": {},
   "outputs": [],
   "source": []
  },
  {
   "cell_type": "code",
   "execution_count": 40,
   "id": "f1435dec",
   "metadata": {
    "collapsed": true
   },
   "outputs": [
    {
     "data": {
      "text/plain": [
       "array([[0.98547386, 0.01452614],\n",
       "       [0.98554525, 0.01445475],\n",
       "       [0.98547529, 0.01452471],\n",
       "       [0.98546046, 0.01453954],\n",
       "       [0.98546097, 0.01453903],\n",
       "       [0.98541859, 0.01458141],\n",
       "       [0.98558875, 0.01441125],\n",
       "       [0.98547796, 0.01452204],\n",
       "       [0.98546957, 0.01453043],\n",
       "       [0.98548781, 0.01451219],\n",
       "       [0.98550294, 0.01449706],\n",
       "       [0.98547862, 0.01452138],\n",
       "       [0.98548526, 0.01451474],\n",
       "       [0.98556658, 0.01443342],\n",
       "       [0.98551048, 0.01448952],\n",
       "       [0.98549983, 0.01450017],\n",
       "       [0.98548182, 0.01451818],\n",
       "       [0.98548272, 0.01451728],\n",
       "       [0.98548657, 0.01451343],\n",
       "       [0.98549992, 0.01450008],\n",
       "       [0.9855204 , 0.0144796 ],\n",
       "       [0.98547998, 0.01452002],\n",
       "       [0.98789869, 0.01210131],\n",
       "       [0.98548089, 0.01451911],\n",
       "       [0.98547654, 0.01452346],\n",
       "       [0.98548271, 0.01451729],\n",
       "       [0.98552495, 0.01447505],\n",
       "       [0.98559904, 0.01440096],\n",
       "       [0.98551235, 0.01448765],\n",
       "       [0.98548695, 0.01451305],\n",
       "       [0.98559617, 0.01440383],\n",
       "       [0.98547512, 0.01452488],\n",
       "       [0.98555589, 0.01444411],\n",
       "       [0.98547653, 0.01452347],\n",
       "       [0.98550046, 0.01449954],\n",
       "       [0.98547409, 0.01452591],\n",
       "       [0.98547535, 0.01452465],\n",
       "       [0.98550685, 0.01449315],\n",
       "       [0.9854759 , 0.0145241 ],\n",
       "       [0.98547498, 0.01452502],\n",
       "       [0.98546878, 0.01453122],\n",
       "       [0.98547592, 0.01452408],\n",
       "       [0.98551477, 0.01448523],\n",
       "       [0.98554066, 0.01445934],\n",
       "       [0.98560111, 0.01439889],\n",
       "       [0.98551503, 0.01448497],\n",
       "       [0.98551041, 0.01448959],\n",
       "       [0.98554044, 0.01445956],\n",
       "       [0.98551353, 0.01448647],\n",
       "       [0.9854741 , 0.0145259 ],\n",
       "       [0.98549662, 0.01450338],\n",
       "       [0.98547745, 0.01452255],\n",
       "       [0.98560553, 0.01439447],\n",
       "       [0.98546879, 0.01453121],\n",
       "       [0.98550323, 0.01449677],\n",
       "       [0.98547251, 0.01452749],\n",
       "       [0.98549461, 0.01450539],\n",
       "       [0.98559368, 0.01440632],\n",
       "       [0.98550794, 0.01449206],\n",
       "       [0.98551925, 0.01448075],\n",
       "       [0.98557993, 0.01442007],\n",
       "       [0.98548401, 0.01451599],\n",
       "       [0.98557285, 0.01442715],\n",
       "       [0.98551904, 0.01448096],\n",
       "       [0.98548343, 0.01451657],\n",
       "       [0.98547673, 0.01452327],\n",
       "       [0.98547836, 0.01452164],\n",
       "       [0.98548063, 0.01451937],\n",
       "       [0.98558449, 0.01441551],\n",
       "       [0.98547107, 0.01452893],\n",
       "       [0.98554146, 0.01445854],\n",
       "       [0.98546482, 0.01453518],\n",
       "       [0.98548175, 0.01451825],\n",
       "       [0.98549074, 0.01450926],\n",
       "       [0.9855442 , 0.0144558 ],\n",
       "       [0.98496968, 0.01503032],\n",
       "       [0.98552451, 0.01447549],\n",
       "       [0.98547972, 0.01452028],\n",
       "       [0.9854768 , 0.0145232 ],\n",
       "       [0.98549067, 0.01450933],\n",
       "       [0.98547905, 0.01452095],\n",
       "       [0.98547061, 0.01452939],\n",
       "       [0.98556021, 0.01443979],\n",
       "       [0.98551014, 0.01448986],\n",
       "       [0.98548785, 0.01451215],\n",
       "       [0.98551842, 0.01448158],\n",
       "       [0.98558666, 0.01441334],\n",
       "       [0.98547384, 0.01452616],\n",
       "       [0.98547566, 0.01452434],\n",
       "       [0.98551133, 0.01448867],\n",
       "       [0.98547824, 0.01452176],\n",
       "       [0.98548317, 0.01451683],\n",
       "       [0.98547829, 0.01452171],\n",
       "       [0.98547186, 0.01452814],\n",
       "       [0.98560553, 0.01439447],\n",
       "       [0.98549321, 0.01450679],\n",
       "       [0.98554921, 0.01445079],\n",
       "       [0.98553795, 0.01446205],\n",
       "       [0.98548519, 0.01451481],\n",
       "       [0.98547464, 0.01452536],\n",
       "       [0.98551221, 0.01448779],\n",
       "       [0.98553969, 0.01446031]])"
      ]
     },
     "execution_count": 40,
     "metadata": {},
     "output_type": "execute_result"
    }
   ],
   "source": [
    "svc.predict_proba(x_test)  \n",
    "# 0.5보다 크면 1, 0.5보다 작으면 0으로 예측..\n",
    "# 0번 클래스, 1번 클래스 확률값을 각각 리턴.."
   ]
  },
  {
   "cell_type": "code",
   "execution_count": null,
   "id": "f97a112e",
   "metadata": {},
   "outputs": [],
   "source": [
    "svc.predict_proba(x_test)[:, 1]  "
   ]
  },
  {
   "cell_type": "code",
   "execution_count": 46,
   "id": "6b52b93c",
   "metadata": {},
   "outputs": [
    {
     "data": {
      "text/plain": [
       "array([0, 0, 0, 0, 0, 0, 0, 0, 0, 0, 0, 0, 0, 0, 0, 0, 0, 0, 0, 0, 0, 0,\n",
       "       0, 0, 0, 0, 0, 0, 0, 0, 0, 0, 0, 0, 0, 0, 0, 0, 0, 0, 0, 0, 0, 0,\n",
       "       0, 0, 0, 0, 0, 0, 0, 0, 0, 0, 0, 0, 0, 0, 0, 0, 0, 0, 0, 0, 0, 0,\n",
       "       0, 0, 0, 0, 0, 0, 0, 0, 0, 0, 0, 0, 0, 0, 0, 0, 0, 0, 0, 0, 0, 0,\n",
       "       0, 0, 0, 0, 0, 0, 0, 0, 0, 0, 0, 0, 0, 0])"
      ]
     },
     "execution_count": 46,
     "metadata": {},
     "output_type": "execute_result"
    }
   ],
   "source": [
    "np.where(svc.predict_proba(x_test)[:, 1] > 0.02 , 1, 0)"
   ]
  },
  {
   "cell_type": "code",
   "execution_count": null,
   "id": "eae330f9",
   "metadata": {},
   "outputs": [],
   "source": []
  },
  {
   "cell_type": "code",
   "execution_count": null,
   "id": "a842d35b",
   "metadata": {},
   "outputs": [],
   "source": []
  },
  {
   "cell_type": "code",
   "execution_count": 63,
   "id": "a52fb12e",
   "metadata": {
    "collapsed": true
   },
   "outputs": [
    {
     "data": {
      "text/plain": [
       "array([0, 0, 0, 0, 0, 0, 0, 0, 0, 0, 0, 0, 0, 0, 0, 0, 0, 0, 0, 0, 0, 0,\n",
       "       0, 0, 0, 0, 0, 0, 0, 0, 0, 0, 0, 0, 0, 0, 0, 0, 0, 0, 0, 0, 0, 0,\n",
       "       0, 0, 0, 0, 0, 0, 0, 0, 0, 0, 0, 0, 0, 0, 0, 0, 0, 0, 0, 0, 0, 0,\n",
       "       0, 0, 0, 0, 0, 0, 0, 0, 0, 1, 0, 0, 0, 0, 0, 0, 0, 0, 0, 0, 0, 0,\n",
       "       0, 0, 0, 0, 0, 0, 0, 0, 0, 0, 0, 0, 0, 0], dtype=int64)"
      ]
     },
     "execution_count": 63,
     "metadata": {},
     "output_type": "execute_result"
    }
   ],
   "source": [
    "svc.predict_proba(x_test).argmax(axis=1)"
   ]
  },
  {
   "cell_type": "code",
   "execution_count": null,
   "id": "48f2bb84",
   "metadata": {},
   "outputs": [],
   "source": []
  },
  {
   "cell_type": "code",
   "execution_count": 107,
   "id": "0b81a978",
   "metadata": {
    "collapsed": true
   },
   "outputs": [
    {
     "data": {
      "text/plain": [
       "array([0, 0, 0, 1, 0, 0, 0, 0, 0, 0, 0, 0, 0, 0, 0, 0, 0, 0, 0, 0, 0, 0,\n",
       "       0, 0, 0, 0, 0, 0, 0, 0, 0, 0, 0, 0, 0, 0, 0, 0, 0, 0, 0, 1, 0, 0,\n",
       "       0, 1, 0, 0, 0, 0, 0, 0, 0, 0, 0, 0, 0, 0, 0, 0, 0, 0, 1, 0, 0, 0,\n",
       "       0, 0, 0, 0, 0, 0, 0, 0, 0, 0, 0, 0, 0, 1, 0, 0, 0, 0, 0, 0, 0, 0,\n",
       "       0, 0, 0, 0, 0, 0, 0, 0, 0, 0, 0, 0, 0, 0, 0, 0, 0, 1, 0, 0, 0, 0,\n",
       "       0, 0, 0, 0, 0, 1, 0, 0, 0, 0, 0, 0, 1, 0, 0, 1, 0, 0, 0, 0, 0, 0,\n",
       "       0, 0, 0, 0, 0, 0, 0, 0, 0, 0, 0, 0, 0, 0, 0, 0, 0, 0, 0, 0, 0, 0,\n",
       "       0, 0, 0, 0, 0, 0, 0, 0, 0, 0, 0, 1, 0, 0, 1, 0, 0, 0, 0, 0, 0, 0,\n",
       "       0, 1, 0, 0, 0, 0, 0, 0, 0, 0, 0, 1, 0, 0, 0, 1, 0, 0, 0, 1, 0, 0,\n",
       "       0, 0, 0, 0, 1, 0, 0, 0, 0, 0, 0, 0, 0, 0, 0, 0, 0, 0, 0, 0, 0, 0,\n",
       "       0, 0, 0, 0, 1, 0, 0, 0, 0, 1, 0, 0, 0, 0, 0, 0, 0, 1, 0, 0, 0, 0,\n",
       "       1, 1, 0, 0, 0, 0, 0, 0, 0, 0, 1, 0, 0, 0, 0, 0, 1, 0, 0, 0, 0, 0,\n",
       "       0, 0, 0, 0, 0, 0, 0, 0, 0, 0, 0, 0, 0, 0, 0, 0, 0, 0, 0, 0, 0, 0,\n",
       "       1, 0, 0, 0, 0, 0, 0, 0, 1, 0, 0, 1, 0, 0, 0, 0, 0, 0, 0, 0, 0, 0,\n",
       "       0, 0, 0, 0, 0, 0, 0, 0, 0, 0, 0, 0, 0, 0, 1, 0, 0, 0, 0, 0, 0, 0,\n",
       "       1, 0, 0, 0, 0, 1, 0, 0, 0, 0, 0, 0, 0, 1, 0, 1, 0, 0, 0, 0, 0, 0,\n",
       "       0, 0, 0, 0, 1, 0, 0, 0, 0, 0, 0, 0, 0, 0, 1, 0, 0, 0, 0, 1, 0, 1,\n",
       "       0, 0, 0, 0, 0, 0, 0, 0, 0, 0, 0, 0, 0, 0, 0, 0, 0, 1, 0, 0, 0, 0,\n",
       "       1, 0, 0, 0, 0, 0, 0, 0, 0, 0, 0, 0, 0, 0, 0, 1, 1, 0, 0, 0, 0, 1,\n",
       "       0, 0, 0, 0, 1, 0, 0, 0, 0, 0, 0, 0, 0, 0, 0, 0, 0, 1, 0, 0, 1, 0,\n",
       "       0, 1, 1, 1, 0, 0, 0, 0, 0, 0])"
      ]
     },
     "execution_count": 107,
     "metadata": {},
     "output_type": "execute_result"
    }
   ],
   "source": [
    "np.where(svc.decision_function(x_test) > 0, 1, 0)"
   ]
  },
  {
   "cell_type": "code",
   "execution_count": null,
   "id": "bab0109c",
   "metadata": {},
   "outputs": [],
   "source": []
  },
  {
   "cell_type": "code",
   "execution_count": 108,
   "id": "98b124aa",
   "metadata": {},
   "outputs": [],
   "source": [
    "### 정밀도-재현율 곡선과 평균정밀도..\n",
    "\n",
    "# 다양한 예측확률 임계값을 통해 모델을 평가하는 방법\n",
    "# 임계값이 변화함에 따라 정밀도와 재현율값의 변화를 그래프로 나타낸다..\n",
    "# precision_recall_curve"
   ]
  },
  {
   "cell_type": "code",
   "execution_count": 52,
   "id": "cbb63087",
   "metadata": {},
   "outputs": [],
   "source": [
    "import warnings\n",
    "warnings.filterwarnings(action='ignore') "
   ]
  },
  {
   "cell_type": "code",
   "execution_count": 53,
   "id": "831dc91e",
   "metadata": {},
   "outputs": [],
   "source": [
    "import matplotlib as mpl\n",
    "import matplotlib.font_manager as fm\n",
    "\n",
    "mpl.rcParams['axes.unicode_minus'] = False\n",
    "\n",
    "path = 'C:/Windows/Fonts/malgun.ttf'\n",
    "font_name = fm.FontProperties(fname=path, size=50).get_name()\n",
    "plt.rc('font', family=font_name)"
   ]
  },
  {
   "cell_type": "code",
   "execution_count": 54,
   "id": "25cb2008",
   "metadata": {},
   "outputs": [],
   "source": [
    "from sklearn.datasets import make_blobs\n",
    "x,y = make_blobs(n_samples=10000, centers=2, n_features=2, \\\n",
    "                 cluster_std=[1.2,1], random_state=0)"
   ]
  },
  {
   "cell_type": "code",
   "execution_count": 55,
   "id": "24484133",
   "metadata": {},
   "outputs": [
    {
     "data": {
      "text/plain": [
       "array([[0.775567  , 3.57894762],\n",
       "       [1.21239419, 5.4673358 ],\n",
       "       [2.81560514, 6.06701785],\n",
       "       [3.00805773, 0.69934352],\n",
       "       [2.00577879, 5.67310957]])"
      ]
     },
     "execution_count": 55,
     "metadata": {},
     "output_type": "execute_result"
    }
   ],
   "source": [
    "x[:5]"
   ]
  },
  {
   "cell_type": "code",
   "execution_count": 56,
   "id": "11ff80f9",
   "metadata": {},
   "outputs": [
    {
     "data": {
      "text/plain": [
       "array([0, 0, 0, 1, 0])"
      ]
     },
     "execution_count": 56,
     "metadata": {},
     "output_type": "execute_result"
    }
   ],
   "source": [
    "y[:5]"
   ]
  },
  {
   "cell_type": "code",
   "execution_count": 57,
   "id": "0b3e8db9",
   "metadata": {},
   "outputs": [
    {
     "data": {
      "text/plain": [
       "<matplotlib.collections.PathCollection at 0x2623a08fa60>"
      ]
     },
     "execution_count": 57,
     "metadata": {},
     "output_type": "execute_result"
    },
    {
     "data": {
      "image/png": "[encoded data removed]",
      "text/plain": [
       "<Figure size 432x288 with 1 Axes>"
      ]
     },
     "metadata": {
      "needs_background": "light"
     },
     "output_type": "display_data"
    }
   ],
   "source": [
    "plt.scatter(x[:,0], x[:,1])"
   ]
  },
  {
   "cell_type": "code",
   "execution_count": null,
   "id": "8e3b40ee",
   "metadata": {},
   "outputs": [],
   "source": []
  },
  {
   "cell_type": "code",
   "execution_count": 58,
   "id": "9e6ca199",
   "metadata": {},
   "outputs": [],
   "source": [
    "x_train, x_test, y_train, y_test =train_test_split(x,y, random_state=111)"
   ]
  },
  {
   "cell_type": "code",
   "execution_count": null,
   "id": "e4318aff",
   "metadata": {},
   "outputs": [],
   "source": []
  },
  {
   "cell_type": "code",
   "execution_count": 59,
   "id": "92d7a435",
   "metadata": {},
   "outputs": [],
   "source": [
    "from sklearn.svm import SVC\n",
    "svc = SVC(gamma=0.05).fit(x_train, y_train)"
   ]
  },
  {
   "cell_type": "code",
   "execution_count": null,
   "id": "0f4b1a1e",
   "metadata": {},
   "outputs": [],
   "source": []
  },
  {
   "cell_type": "code",
   "execution_count": 60,
   "id": "af609a23",
   "metadata": {},
   "outputs": [],
   "source": [
    "from sklearn.metrics import precision_recall_curve\n",
    "\n",
    "precision, recall, thresholds = precision_recall_curve(y_test, \\\n",
    "                                                       svc.decision_function(x_test))"
   ]
  },
  {
   "cell_type": "code",
   "execution_count": 62,
   "id": "4bce1ecd",
   "metadata": {},
   "outputs": [
    {
     "data": {
      "text/plain": [
       "array([-2.83918647, -2.83762291, -2.83742764, ...,  2.54155366,\n",
       "        2.54198125,  2.54230823])"
      ]
     },
     "execution_count": 62,
     "metadata": {},
     "output_type": "execute_result"
    }
   ],
   "source": [
    "thresholds"
   ]
  },
  {
   "cell_type": "code",
   "execution_count": 61,
   "id": "750d5ac8",
   "metadata": {},
   "outputs": [
    {
     "data": {
      "text/plain": [
       "array([0.66703236, 0.66684962, 0.66721582, ..., 1.        , 1.        ,\n",
       "       1.        ])"
      ]
     },
     "execution_count": 61,
     "metadata": {},
     "output_type": "execute_result"
    }
   ],
   "source": [
    "precision"
   ]
  },
  {
   "cell_type": "code",
   "execution_count": 63,
   "id": "2d660ce2",
   "metadata": {},
   "outputs": [
    {
     "data": {
      "text/plain": [
       "array([1.00000000e+00, 9.99177632e-01, 9.99177632e-01, ...,\n",
       "       1.64473684e-03, 8.22368421e-04, 0.00000000e+00])"
      ]
     },
     "execution_count": 63,
     "metadata": {},
     "output_type": "execute_result"
    }
   ],
   "source": [
    "recall"
   ]
  },
  {
   "cell_type": "code",
   "execution_count": null,
   "id": "080bd883",
   "metadata": {},
   "outputs": [],
   "source": []
  },
  {
   "cell_type": "code",
   "execution_count": 64,
   "id": "2b819a29",
   "metadata": {},
   "outputs": [
    {
     "data": {
      "text/plain": [
       "Text(0, 0.5, '재현율')"
      ]
     },
     "execution_count": 64,
     "metadata": {},
     "output_type": "execute_result"
    },
    {
     "data": {
      "image/png": "[encoded data removed]",
      "text/plain": [
       "<Figure size 432x288 with 1 Axes>"
      ]
     },
     "metadata": {
      "needs_background": "light"
     },
     "output_type": "display_data"
    }
   ],
   "source": [
    "plt.plot(precision, recall, label='정밀도-재현율 곡선')\n",
    "plt.xlabel('정밀도')\n",
    "plt.ylabel('재현율')\n",
    "\n",
    "# 정밀도가 높아지면 재현율을 낮아지고, 재현율이 높아지면 정밀도가 낮아진다..\n",
    "# 좋은 모델은 모든 임계값 수준에서 정밀도와 재현율이 동시에 높은 모델이다..\n",
    "# 정밀도-재현율 곡선의 아랫부분 면적이 클수록 좋은 모델\n",
    "# 정밀도-재현율 곡선의 아래 면적 : average_precision_score()"
   ]
  },
  {
   "cell_type": "code",
   "execution_count": 76,
   "id": "0d59dc3d",
   "metadata": {},
   "outputs": [
    {
     "data": {
      "text/plain": [
       "0.9885880392185753"
      ]
     },
     "execution_count": 76,
     "metadata": {},
     "output_type": "execute_result"
    }
   ],
   "source": [
    "from sklearn.metrics import average_precision_score\n",
    "average_precision_score(y_test, svc.decision_function(x_test))"
   ]
  },
  {
   "cell_type": "code",
   "execution_count": null,
   "id": "12cc2ca9",
   "metadata": {},
   "outputs": [],
   "source": []
  },
  {
   "cell_type": "code",
   "execution_count": 65,
   "id": "73accb27",
   "metadata": {},
   "outputs": [
    {
     "data": {
      "text/plain": [
       "RandomForestClassifier(random_state=111)"
      ]
     },
     "execution_count": 65,
     "metadata": {},
     "output_type": "execute_result"
    }
   ],
   "source": [
    "from sklearn.ensemble import RandomForestClassifier\n",
    "\n",
    "rfc = RandomForestClassifier(n_estimators = 100, random_state=111)\n",
    "rfc.fit(x_train, y_train)"
   ]
  },
  {
   "cell_type": "code",
   "execution_count": 66,
   "id": "2a2ceea0",
   "metadata": {},
   "outputs": [
    {
     "data": {
      "text/plain": [
       "array([[0.  , 1.  ],\n",
       "       [0.  , 1.  ],\n",
       "       [0.01, 0.99],\n",
       "       ...,\n",
       "       [0.  , 1.  ],\n",
       "       [1.  , 0.  ],\n",
       "       [1.  , 0.  ]])"
      ]
     },
     "execution_count": 66,
     "metadata": {},
     "output_type": "execute_result"
    }
   ],
   "source": [
    "rfc.predict_proba(x_test)"
   ]
  },
  {
   "cell_type": "code",
   "execution_count": 67,
   "id": "d7930366",
   "metadata": {},
   "outputs": [],
   "source": [
    "precision_rfc, recall_rfc, thresholds_rfc = \\\n",
    "        precision_recall_curve(y_test, rfc.predict_proba(x_test)[:,1])"
   ]
  },
  {
   "cell_type": "code",
   "execution_count": 68,
   "id": "8f710e7c",
   "metadata": {},
   "outputs": [
    {
     "data": {
      "text/plain": [
       "array([-2.83918647, -2.83762291, -2.83742764, ...,  2.54155366,\n",
       "        2.54198125,  2.54230823])"
      ]
     },
     "execution_count": 68,
     "metadata": {},
     "output_type": "execute_result"
    }
   ],
   "source": [
    "thresholds"
   ]
  },
  {
   "cell_type": "code",
   "execution_count": 69,
   "id": "5db6d44e",
   "metadata": {},
   "outputs": [
    {
     "data": {
      "text/plain": [
       "array([0.66703236, 0.66684962, 0.66721582, ..., 1.        , 1.        ,\n",
       "       1.        ])"
      ]
     },
     "execution_count": 69,
     "metadata": {},
     "output_type": "execute_result"
    }
   ],
   "source": [
    "precision"
   ]
  },
  {
   "cell_type": "code",
   "execution_count": 70,
   "id": "ea8f2ebc",
   "metadata": {},
   "outputs": [
    {
     "data": {
      "text/plain": [
       "array([1.00000000e+00, 9.99177632e-01, 9.99177632e-01, ...,\n",
       "       1.64473684e-03, 8.22368421e-04, 0.00000000e+00])"
      ]
     },
     "execution_count": 70,
     "metadata": {},
     "output_type": "execute_result"
    }
   ],
   "source": [
    "recall"
   ]
  },
  {
   "cell_type": "code",
   "execution_count": 71,
   "id": "fd39e7b4",
   "metadata": {},
   "outputs": [
    {
     "data": {
      "text/plain": [
       "Text(0, 0.5, '재현율')"
      ]
     },
     "execution_count": 71,
     "metadata": {},
     "output_type": "execute_result"
    },
    {
     "data": {
      "image/png": "[encoded data removed]",
      "text/plain": [
       "<Figure size 432x288 with 1 Axes>"
      ]
     },
     "metadata": {
      "needs_background": "light"
     },
     "output_type": "display_data"
    }
   ],
   "source": [
    "plt.plot(precision_rfc, recall_rfc, label='rfc-정밀도-재현율 곡선')\n",
    "plt.title('rfc-정밀도-재현율 곡선')\n",
    "plt.xlabel('정밀도')\n",
    "plt.ylabel('재현율')"
   ]
  },
  {
   "cell_type": "code",
   "execution_count": null,
   "id": "a0b84066",
   "metadata": {},
   "outputs": [],
   "source": []
  },
  {
   "cell_type": "code",
   "execution_count": 74,
   "id": "3b21b8e2",
   "metadata": {},
   "outputs": [
    {
     "data": {
      "text/plain": [
       "<matplotlib.legend.Legend at 0x2623a44cac0>"
      ]
     },
     "execution_count": 74,
     "metadata": {},
     "output_type": "execute_result"
    },
    {
     "data": {
      "image/png": "[encoded data removed]",
      "text/plain": [
       "<Figure size 432x288 with 1 Axes>"
      ]
     },
     "metadata": {
      "needs_background": "light"
     },
     "output_type": "display_data"
    }
   ],
   "source": [
    "plt.plot(precision, recall, label='svc')\n",
    "plt.plot(precision_rfc, recall_rfc, label='rfc')\n",
    "plt.title('정밀도-재현율-곡선')\n",
    "plt.legend()"
   ]
  },
  {
   "cell_type": "code",
   "execution_count": null,
   "id": "89b543bd",
   "metadata": {},
   "outputs": [],
   "source": []
  },
  {
   "cell_type": "code",
   "execution_count": 77,
   "id": "a832e9fb",
   "metadata": {},
   "outputs": [
    {
     "name": "stdout",
     "output_type": "stream",
     "text": [
      "svc_aps : 0.9885880392185753 rfc_aps : 0.9791388544778379\n"
     ]
    }
   ],
   "source": [
    "svc_aps = average_precision_score(y_test, svc.decision_function(x_test))\n",
    "rfc_aps = average_precision_score(y_test, rfc.predict_proba(x_test)[:,1])\n",
    "print('svc_aps :', svc_aps, 'rfc_aps :', rfc_aps)"
   ]
  },
  {
   "cell_type": "code",
   "execution_count": null,
   "id": "f5812dae",
   "metadata": {},
   "outputs": [],
   "source": []
  },
  {
   "cell_type": "code",
   "execution_count": null,
   "id": "26e37b96",
   "metadata": {},
   "outputs": [],
   "source": []
  },
  {
   "cell_type": "code",
   "execution_count": null,
   "id": "5e7ca2c8",
   "metadata": {},
   "outputs": [],
   "source": [
    "### ROC-AUC 곡선\n",
    "\n",
    "# 모든 임계값에서 TPR(진짜 양성비율)과 FPR(거짓양성비율)을 그래프로 나타낸 곡선\n",
    "# TPR - 재현율(recall), 실제 True인 데이터를 True라고 맞춘 비율\n",
    "# FPR - 거짓양성비율, 실제 False인 데이터를 True라고 잘못 맞춘 비율\n",
    "# TPR은 높을수록 좋고, FPR은 낮을수록 좋은 모델..\n",
    "# roc-auc곡선의 면적 : roc_auc_score()\n",
    "# 특히 imbalaced dataset 에서 유용한 평가지표로 사용."
   ]
  },
  {
   "cell_type": "code",
   "execution_count": null,
   "id": "2d620e64",
   "metadata": {},
   "outputs": [],
   "source": []
  },
  {
   "cell_type": "code",
   "execution_count": 78,
   "id": "f2ccfe0f",
   "metadata": {},
   "outputs": [
    {
     "data": {
      "text/plain": [
       "<matplotlib.legend.Legend at 0x2623a5f9e80>"
      ]
     },
     "execution_count": 78,
     "metadata": {},
     "output_type": "execute_result"
    },
    {
     "data": {
      "image/png": "[encoded data removed]",
      "text/plain": [
       "<Figure size 432x288 with 1 Axes>"
      ]
     },
     "metadata": {
      "needs_background": "light"
     },
     "output_type": "display_data"
    }
   ],
   "source": [
    "from sklearn.metrics import roc_curve\n",
    "\n",
    "fpr, tpr, thresholds = roc_curve(y_test, svc.decision_function(x_test))\n",
    "\n",
    "plt.plot(fpr, tpr, label='ROC 곡선')\n",
    "plt.xlabel('FPR')\n",
    "plt.ylabel('TPR')\n",
    "plt.legend()\n",
    "\n",
    "# tpr은 높고, fpr은 낮을수록 좋은 모델 - 좌상으로 그려질수록 좋은 모델.."
   ]
  },
  {
   "cell_type": "code",
   "execution_count": 79,
   "id": "3b74c088",
   "metadata": {},
   "outputs": [],
   "source": [
    "fpr_rfc, tpr_rfc, thresholds = roc_curve(y_test, rfc.predict_proba(x_test)[:,1])"
   ]
  },
  {
   "cell_type": "code",
   "execution_count": 80,
   "id": "e2cbfd52",
   "metadata": {},
   "outputs": [
    {
     "data": {
      "text/plain": [
       "<matplotlib.legend.Legend at 0x2623a6a6e50>"
      ]
     },
     "execution_count": 80,
     "metadata": {},
     "output_type": "execute_result"
    },
    {
     "data": {
      "image/png": "[encoded data removed]",
      "text/plain": [
       "<Figure size 432x288 with 1 Axes>"
      ]
     },
     "metadata": {
      "needs_background": "light"
     },
     "output_type": "display_data"
    }
   ],
   "source": [
    "plt.plot(fpr, tpr, label='SVC-ROC 곡선')\n",
    "plt.plot(fpr_rfc, tpr_rfc, label='RFC-ROC 곡선')\n",
    "plt.xlabel('FPR')\n",
    "plt.ylabel('TPR')\n",
    "plt.legend()"
   ]
  },
  {
   "cell_type": "code",
   "execution_count": 81,
   "id": "9de49d16",
   "metadata": {},
   "outputs": [
    {
     "name": "stdout",
     "output_type": "stream",
     "text": [
      "랜덤 포래스트 AUC_SCORE : 0.9830793214051485\n",
      "SVC AUC_SCORE : 0.9892771868339072\n"
     ]
    }
   ],
   "source": [
    "from sklearn.metrics import roc_auc_score\n",
    "rfc_auc_score = roc_auc_score(y_test, rfc.predict_proba(x_test)[:,1])\n",
    "svc_auc_score = roc_auc_score(y_test, svc.decision_function(x_test))\n",
    "\n",
    "print('랜덤 포래스트 AUC_SCORE :', rfc_auc_score)\n",
    "print('SVC AUC_SCORE :', svc_auc_score)"
   ]
  },
  {
   "cell_type": "code",
   "execution_count": null,
   "id": "d6e98d0c",
   "metadata": {},
   "outputs": [],
   "source": []
  }
 ],
 "metadata": {
  "kernelspec": {
   "display_name": "Python 3 (ipykernel)",
   "language": "python",
   "name": "python3"
  },
  "language_info": {
   "codemirror_mode": {
    "name": "ipython",
    "version": 3
   },
   "file_extension": ".py",
   "mimetype": "text/x-python",
   "name": "python",
   "nbconvert_exporter": "python",
   "pygments_lexer": "ipython3",
   "version": "3.10.1"
  }
 },
 "nbformat": 4,
 "nbformat_minor": 5
}
