{
 "cells": [
  {
   "cell_type": "code",
   "execution_count": 24,
   "id": "f0a8abac",
   "metadata": {},
   "outputs": [],
   "source": [
    "import pandas as pd\n",
    "import numpy as np\n",
    "import matplotlib.pyplot as plt\n",
    "import seaborn as sns"
   ]
  },
  {
   "cell_type": "code",
   "execution_count": 3,
   "id": "3e94d8ad",
   "metadata": {},
   "outputs": [],
   "source": [
    "# matplotlib 한글화\n",
    "\n",
    "import matplotlib as mpl\n",
    "import matplotlib.font_manager as fm\n",
    "\n",
    "mpl.rcParams['axes.unicode_minus'] = False\n",
    "\n",
    "path = 'C:/Windows/Fonts/malgun.ttf'\n",
    "font_name = fm.FontProperties(fname=path, size=50).get_name()\n",
    "plt.rc('font', family=font_name)"
   ]
  },
  {
   "cell_type": "code",
   "execution_count": 4,
   "id": "81cfd023",
   "metadata": {},
   "outputs": [],
   "source": [
    "import warnings\n",
    "warnings.filterwarnings(action='ignore') "
   ]
  },
  {
   "cell_type": "markdown",
   "id": "34a55da8",
   "metadata": {},
   "source": [
    "# Validation\n",
    "---\n",
    "\n",
    "- 2중 검증보다는 3중 검증이 오차를 조금 줄일 수 있다.\n",
    "- 하이퍼 파라미터를 최적화 시킬 때, test 데이터에 과적합이 될 수 있다.\n",
    "- 하이퍼 파라미터를 최적화 시킬 때 Validation으로 검증시키고, 최종적으로 test 데이터로 한번 더 검증"
   ]
  },
  {
   "cell_type": "markdown",
   "id": "e8a4d42d",
   "metadata": {},
   "source": [
    "![Validation](https://t1.daumcdn.net/cfile/tistory/9951E5445AAE1BE025?download)"
   ]
  },
  {
   "cell_type": "markdown",
   "id": "d06aa8ce",
   "metadata": {},
   "source": [
    "# Cross Validation\n",
    "---\n",
    "- Train 데이터와 Validation 데이터를 서로 cross하면서 검증\n",
    "- 일반화 성능 측정 방법\n",
    "- 일반화 수준을 파악할 수 있지만, 비용(시간, 메모리)이 많이든다."
   ]
  },
  {
   "cell_type": "markdown",
   "id": "b3369e44",
   "metadata": {},
   "source": [
    "![Cross Validation](https://blog.kakaocdn.net/dn/3gQO8/btqF0ZOHja8/SUTbGTYwVndcUJ5qWusqa0/img.png)"
   ]
  },
  {
   "cell_type": "code",
   "execution_count": null,
   "id": "d3df9890",
   "metadata": {},
   "outputs": [],
   "source": []
  },
  {
   "cell_type": "code",
   "execution_count": 7,
   "id": "80db2b70",
   "metadata": {},
   "outputs": [],
   "source": [
    "from sklearn.model_selection import cross_val_score\n",
    "from sklearn.datasets import load_breast_cancer\n",
    "\n",
    "cancer = load_breast_cancer()\n",
    "x = cancer.data\n",
    "y = cancer.target"
   ]
  },
  {
   "cell_type": "code",
   "execution_count": null,
   "id": "bf00e470",
   "metadata": {},
   "outputs": [],
   "source": []
  },
  {
   "cell_type": "code",
   "execution_count": 12,
   "id": "1e2c8212",
   "metadata": {},
   "outputs": [],
   "source": [
    "from sklearn.neighbors import KNeighborsClassifier\n",
    "from sklearn.model_selection import train_test_split\n",
    "\n",
    "knn = KNeighborsClassifier(n_neighbors=5)\n",
    "x_train, x_test, y_train, y_test = train_test_split(x, y, random_state=111)"
   ]
  },
  {
   "cell_type": "code",
   "execution_count": 14,
   "id": "f06aea1f",
   "metadata": {},
   "outputs": [],
   "source": [
    "from sklearn.metrics import classification_report, accuracy_score"
   ]
  },
  {
   "cell_type": "code",
   "execution_count": 17,
   "id": "e59dcd81",
   "metadata": {},
   "outputs": [
    {
     "data": {
      "text/plain": [
       "0.9300699300699301"
      ]
     },
     "execution_count": 17,
     "metadata": {},
     "output_type": "execute_result"
    }
   ],
   "source": [
    "knn.fit(x_train, y_train)\n",
    "preds = knn.predict(x_test)\n",
    "accuracy_score(y_test, preds)     # accuracy\n",
    "# knn.score(x_test, y_test)       # accuracy_score에 비해 정확하지는 않지만 빠르고 편함"
   ]
  },
  {
   "cell_type": "code",
   "execution_count": null,
   "id": "81dea7e6",
   "metadata": {},
   "outputs": [],
   "source": []
  },
  {
   "cell_type": "code",
   "execution_count": 39,
   "id": "b2bde886",
   "metadata": {},
   "outputs": [
    {
     "data": {
      "text/plain": [
       "array([0.90697674, 0.94117647, 0.91764706, 0.94117647, 0.92941176])"
      ]
     },
     "execution_count": 39,
     "metadata": {},
     "output_type": "execute_result"
    }
   ],
   "source": [
    "# cv를 조정하여 data를 몇등분 시킬지 정한다\n",
    "scores = cross_val_score(knn, x_train, y_train, cv=5)\n",
    "scores"
   ]
  },
  {
   "cell_type": "code",
   "execution_count": 27,
   "id": "8bc1d85e",
   "metadata": {},
   "outputs": [
    {
     "data": {
      "text/plain": [
       "0.9279459711224964"
      ]
     },
     "execution_count": 27,
     "metadata": {},
     "output_type": "execute_result"
    }
   ],
   "source": [
    "np.mean(scores)"
   ]
  },
  {
   "cell_type": "code",
   "execution_count": 40,
   "id": "878d4738",
   "metadata": {},
   "outputs": [
    {
     "name": "stdout",
     "output_type": "stream",
     "text": [
      "교차검증점수 : [0.90697674 0.94117647 0.91764706 0.94117647 0.92941176]\n",
      "교차검증평균 : 0.9272777017783858\n",
      "교차검증편차 : 0.01338494629296428\n"
     ]
    }
   ],
   "source": [
    "print('교차검증점수 :', scores)\n",
    "print('교차검증평균 :', np.mean(scores))\n",
    "print('교차검증편차 :', np.std(scores))"
   ]
  },
  {
   "cell_type": "code",
   "execution_count": 30,
   "id": "3477c1a1",
   "metadata": {},
   "outputs": [
    {
     "name": "stdout",
     "output_type": "stream",
     "text": [
      "교차검증점수 : [0.93661972 0.91549296 0.93661972]\n",
      "교차검증평균 : 0.9295774647887324\n",
      "교차검증편차 : 0.009959250439247135\n"
     ]
    }
   ],
   "source": [
    "# cv를 조정하여 data를 몇등분 시킬지 정한다\n",
    "scores = cross_val_score(knn, x_train, y_train, cv=3)\n",
    "print('교차검증점수 :', scores)\n",
    "print('교차검증평균 :', np.mean(scores))\n",
    "print('교차검증편차 :', np.std(scores))"
   ]
  },
  {
   "cell_type": "code",
   "execution_count": null,
   "id": "a7a4bd8f",
   "metadata": {},
   "outputs": [],
   "source": []
  },
  {
   "cell_type": "code",
   "execution_count": 32,
   "id": "40e49f8c",
   "metadata": {},
   "outputs": [],
   "source": [
    "# 분할기 클래스 객체를 사용 : 보다 정교한 cross validation"
   ]
  },
  {
   "cell_type": "code",
   "execution_count": 41,
   "id": "a7387eea",
   "metadata": {},
   "outputs": [
    {
     "name": "stdout",
     "output_type": "stream",
     "text": [
      "교차검증점수 : [0.90697674 0.94117647 0.92941176 0.94117647 0.92941176]\n",
      "교차검증평균 : 0.9296306429548565\n",
      "교차검증편차 : 0.012489253110435606\n"
     ]
    }
   ],
   "source": [
    "from sklearn.model_selection import KFold\n",
    "kfold = KFold(n_splits=5)\n",
    "scores = cross_val_score(knn, x_train, y_train, cv = kfold)\n",
    "print('교차검증점수 :', scores)\n",
    "print('교차검증평균 :', np.mean(scores))\n",
    "print('교차검증편차 :', np.std(scores))"
   ]
  },
  {
   "cell_type": "code",
   "execution_count": 36,
   "id": "1fa4d15b",
   "metadata": {},
   "outputs": [
    {
     "name": "stdout",
     "output_type": "stream",
     "text": [
      "교차검증점수 : [0.94186047 0.95294118 0.91764706 0.89411765 0.95294118]\n",
      "교차검증평균 : 0.9319015047879617\n",
      "교차검증편차 : 0.02287061693306545\n"
     ]
    }
   ],
   "source": [
    "# shuffle cross validation\n",
    "kfold = KFold(n_splits=5, shuffle=True)\n",
    "scores = cross_val_score(knn, x_train, y_train, cv = kfold)\n",
    "\n",
    "print('교차검증점수 :', scores)\n",
    "print('교차검증평균 :', np.mean(scores))\n",
    "print('교차검증편차 :', np.std(scores))"
   ]
  },
  {
   "cell_type": "code",
   "execution_count": null,
   "id": "f2e4724f",
   "metadata": {},
   "outputs": [],
   "source": []
  },
  {
   "cell_type": "code",
   "execution_count": 37,
   "id": "10b18236",
   "metadata": {},
   "outputs": [
    {
     "name": "stdout",
     "output_type": "stream",
     "text": [
      "교차검증점수 : [0.90165809 0.91378061 0.8466811  0.93280632 0.93772894]\n",
      "교차검증평균 : 0.9065310120727241\n",
      "교차검증편차 : 0.032625195841567554\n"
     ]
    }
   ],
   "source": [
    "# scoring : 원하는 평가 지표를 넣을 수 있다.\n",
    "# f1_macro : f1_score\n",
    "kfold = KFold(n_splits=5, shuffle=True)\n",
    "scores = cross_val_score(knn, x_train, y_train, cv = kfold, scoring='f1_macro')\n",
    "\n",
    "print('교차검증점수 :', scores)\n",
    "print('교차검증평균 :', np.mean(scores))\n",
    "print('교차검증편차 :', np.std(scores))"
   ]
  },
  {
   "cell_type": "code",
   "execution_count": null,
   "id": "f945be00",
   "metadata": {},
   "outputs": [],
   "source": []
  },
  {
   "cell_type": "code",
   "execution_count": 38,
   "id": "342f6ceb",
   "metadata": {},
   "outputs": [
    {
     "name": "stdout",
     "output_type": "stream",
     "text": [
      "교차검증점수 : [0.96774194 0.89317043 0.93837803 0.91833726 0.8872549 ]\n",
      "교차검증평균 : 0.9209765121732761\n",
      "교차검증편차 : 0.029688748042841565\n"
     ]
    }
   ],
   "source": [
    "# precision_macro : 정밀도\n",
    "kfold = KFold(n_splits=5, shuffle=True)\n",
    "scores = cross_val_score(knn, x_train, y_train, cv = kfold, scoring='precision_macro')\n",
    "\n",
    "print('교차검증점수 :', scores)\n",
    "print('교차검증평균 :', np.mean(scores))\n",
    "print('교차검증편차 :', np.std(scores))"
   ]
  },
  {
   "cell_type": "code",
   "execution_count": null,
   "id": "1172a782",
   "metadata": {},
   "outputs": [],
   "source": []
  }
 ],
 "metadata": {
  "kernelspec": {
   "display_name": "Python 3 (ipykernel)",
   "language": "python",
   "name": "python3"
  },
  "language_info": {
   "codemirror_mode": {
    "name": "ipython",
    "version": 3
   },
   "file_extension": ".py",
   "mimetype": "text/x-python",
   "name": "python",
   "nbconvert_exporter": "python",
   "pygments_lexer": "ipython3",
   "version": "3.10.1"
  }
 },
 "nbformat": 4,
 "nbformat_minor": 5
}
