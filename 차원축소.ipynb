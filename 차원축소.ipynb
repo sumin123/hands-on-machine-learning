{
 "cells": [
  {
   "cell_type": "code",
   "execution_count": null,
   "id": "9b17a937",
   "metadata": {},
   "outputs": [],
   "source": [
    "### 차원축소\n",
    "\n",
    "# 고차원데이터(변수가 많은, 칼럼이 많은)의 경우, 학습이 어려울 수 있다(과적합), 연산하는데\n",
    "# 비용이 많이든다.. 시각화가 어렵다..\n",
    "\n",
    "# 고차원데이터 => 저차원으로 변형..\n",
    "\n",
    "# 학습이 효율적이다\n",
    "# 학습에 비용이 적게 든다(메모리, 시간)\n",
    "# 시각화해서 분석이 용이하다\n",
    "\n",
    "# PCA, LDA, t-sne..."
   ]
  },
  {
   "cell_type": "code",
   "execution_count": null,
   "id": "c602ba9e",
   "metadata": {},
   "outputs": [],
   "source": []
  },
  {
   "cell_type": "code",
   "execution_count": 1,
   "id": "5e303469",
   "metadata": {},
   "outputs": [],
   "source": [
    "import pandas as pd\n",
    "import numpy as np\n",
    "import matplotlib.pyplot as plt\n",
    "import seaborn as sns"
   ]
  },
  {
   "cell_type": "code",
   "execution_count": null,
   "id": "13af7fe3",
   "metadata": {},
   "outputs": [],
   "source": []
  },
  {
   "cell_type": "code",
   "execution_count": 2,
   "id": "3d73232a",
   "metadata": {},
   "outputs": [],
   "source": [
    "from sklearn.datasets import load_digits\n",
    "digits = load_digits()"
   ]
  },
  {
   "cell_type": "code",
   "execution_count": 3,
   "id": "20492bcf",
   "metadata": {
    "scrolled": true
   },
   "outputs": [
    {
     "data": {
      "text/plain": [
       "{'data': array([[ 0.,  0.,  5., ...,  0.,  0.,  0.],\n",
       "        [ 0.,  0.,  0., ..., 10.,  0.,  0.],\n",
       "        [ 0.,  0.,  0., ..., 16.,  9.,  0.],\n",
       "        ...,\n",
       "        [ 0.,  0.,  1., ...,  6.,  0.,  0.],\n",
       "        [ 0.,  0.,  2., ..., 12.,  0.,  0.],\n",
       "        [ 0.,  0., 10., ..., 12.,  1.,  0.]]),\n",
       " 'target': array([0, 1, 2, ..., 8, 9, 8]),\n",
       " 'frame': None,\n",
       " 'feature_names': ['pixel_0_0',\n",
       "  'pixel_0_1',\n",
       "  'pixel_0_2',\n",
       "  'pixel_0_3',\n",
       "  'pixel_0_4',\n",
       "  'pixel_0_5',\n",
       "  'pixel_0_6',\n",
       "  'pixel_0_7',\n",
       "  'pixel_1_0',\n",
       "  'pixel_1_1',\n",
       "  'pixel_1_2',\n",
       "  'pixel_1_3',\n",
       "  'pixel_1_4',\n",
       "  'pixel_1_5',\n",
       "  'pixel_1_6',\n",
       "  'pixel_1_7',\n",
       "  'pixel_2_0',\n",
       "  'pixel_2_1',\n",
       "  'pixel_2_2',\n",
       "  'pixel_2_3',\n",
       "  'pixel_2_4',\n",
       "  'pixel_2_5',\n",
       "  'pixel_2_6',\n",
       "  'pixel_2_7',\n",
       "  'pixel_3_0',\n",
       "  'pixel_3_1',\n",
       "  'pixel_3_2',\n",
       "  'pixel_3_3',\n",
       "  'pixel_3_4',\n",
       "  'pixel_3_5',\n",
       "  'pixel_3_6',\n",
       "  'pixel_3_7',\n",
       "  'pixel_4_0',\n",
       "  'pixel_4_1',\n",
       "  'pixel_4_2',\n",
       "  'pixel_4_3',\n",
       "  'pixel_4_4',\n",
       "  'pixel_4_5',\n",
       "  'pixel_4_6',\n",
       "  'pixel_4_7',\n",
       "  'pixel_5_0',\n",
       "  'pixel_5_1',\n",
       "  'pixel_5_2',\n",
       "  'pixel_5_3',\n",
       "  'pixel_5_4',\n",
       "  'pixel_5_5',\n",
       "  'pixel_5_6',\n",
       "  'pixel_5_7',\n",
       "  'pixel_6_0',\n",
       "  'pixel_6_1',\n",
       "  'pixel_6_2',\n",
       "  'pixel_6_3',\n",
       "  'pixel_6_4',\n",
       "  'pixel_6_5',\n",
       "  'pixel_6_6',\n",
       "  'pixel_6_7',\n",
       "  'pixel_7_0',\n",
       "  'pixel_7_1',\n",
       "  'pixel_7_2',\n",
       "  'pixel_7_3',\n",
       "  'pixel_7_4',\n",
       "  'pixel_7_5',\n",
       "  'pixel_7_6',\n",
       "  'pixel_7_7'],\n",
       " 'target_names': array([0, 1, 2, 3, 4, 5, 6, 7, 8, 9]),\n",
       " 'images': array([[[ 0.,  0.,  5., ...,  1.,  0.,  0.],\n",
       "         [ 0.,  0., 13., ..., 15.,  5.,  0.],\n",
       "         [ 0.,  3., 15., ..., 11.,  8.,  0.],\n",
       "         ...,\n",
       "         [ 0.,  4., 11., ..., 12.,  7.,  0.],\n",
       "         [ 0.,  2., 14., ..., 12.,  0.,  0.],\n",
       "         [ 0.,  0.,  6., ...,  0.,  0.,  0.]],\n",
       " \n",
       "        [[ 0.,  0.,  0., ...,  5.,  0.,  0.],\n",
       "         [ 0.,  0.,  0., ...,  9.,  0.,  0.],\n",
       "         [ 0.,  0.,  3., ...,  6.,  0.,  0.],\n",
       "         ...,\n",
       "         [ 0.,  0.,  1., ...,  6.,  0.,  0.],\n",
       "         [ 0.,  0.,  1., ...,  6.,  0.,  0.],\n",
       "         [ 0.,  0.,  0., ..., 10.,  0.,  0.]],\n",
       " \n",
       "        [[ 0.,  0.,  0., ..., 12.,  0.,  0.],\n",
       "         [ 0.,  0.,  3., ..., 14.,  0.,  0.],\n",
       "         [ 0.,  0.,  8., ..., 16.,  0.,  0.],\n",
       "         ...,\n",
       "         [ 0.,  9., 16., ...,  0.,  0.,  0.],\n",
       "         [ 0.,  3., 13., ..., 11.,  5.,  0.],\n",
       "         [ 0.,  0.,  0., ..., 16.,  9.,  0.]],\n",
       " \n",
       "        ...,\n",
       " \n",
       "        [[ 0.,  0.,  1., ...,  1.,  0.,  0.],\n",
       "         [ 0.,  0., 13., ...,  2.,  1.,  0.],\n",
       "         [ 0.,  0., 16., ..., 16.,  5.,  0.],\n",
       "         ...,\n",
       "         [ 0.,  0., 16., ..., 15.,  0.,  0.],\n",
       "         [ 0.,  0., 15., ..., 16.,  0.,  0.],\n",
       "         [ 0.,  0.,  2., ...,  6.,  0.,  0.]],\n",
       " \n",
       "        [[ 0.,  0.,  2., ...,  0.,  0.,  0.],\n",
       "         [ 0.,  0., 14., ..., 15.,  1.,  0.],\n",
       "         [ 0.,  4., 16., ..., 16.,  7.,  0.],\n",
       "         ...,\n",
       "         [ 0.,  0.,  0., ..., 16.,  2.,  0.],\n",
       "         [ 0.,  0.,  4., ..., 16.,  2.,  0.],\n",
       "         [ 0.,  0.,  5., ..., 12.,  0.,  0.]],\n",
       " \n",
       "        [[ 0.,  0., 10., ...,  1.,  0.,  0.],\n",
       "         [ 0.,  2., 16., ...,  1.,  0.,  0.],\n",
       "         [ 0.,  0., 15., ..., 15.,  0.,  0.],\n",
       "         ...,\n",
       "         [ 0.,  4., 16., ..., 16.,  6.,  0.],\n",
       "         [ 0.,  8., 16., ..., 16.,  8.,  0.],\n",
       "         [ 0.,  1.,  8., ..., 12.,  1.,  0.]]]),\n",
       " 'DESCR': \".. _digits_dataset:\\n\\nOptical recognition of handwritten digits dataset\\n--------------------------------------------------\\n\\n**Data Set Characteristics:**\\n\\n    :Number of Instances: 1797\\n    :Number of Attributes: 64\\n    :Attribute Information: 8x8 image of integer pixels in the range 0..16.\\n    :Missing Attribute Values: None\\n    :Creator: E. Alpaydin (alpaydin '@' boun.edu.tr)\\n    :Date: July; 1998\\n\\nThis is a copy of the test set of the UCI ML hand-written digits datasets\\nhttps://archive.ics.uci.edu/ml/datasets/Optical+Recognition+of+Handwritten+Digits\\n\\nThe data set contains images of hand-written digits: 10 classes where\\neach class refers to a digit.\\n\\nPreprocessing programs made available by NIST were used to extract\\nnormalized bitmaps of handwritten digits from a preprinted form. From a\\ntotal of 43 people, 30 contributed to the training set and different 13\\nto the test set. 32x32 bitmaps are divided into nonoverlapping blocks of\\n4x4 and the number of on pixels are counted in each block. This generates\\nan input matrix of 8x8 where each element is an integer in the range\\n0..16. This reduces dimensionality and gives invariance to small\\ndistortions.\\n\\nFor info on NIST preprocessing routines, see M. D. Garris, J. L. Blue, G.\\nT. Candela, D. L. Dimmick, J. Geist, P. J. Grother, S. A. Janet, and C.\\nL. Wilson, NIST Form-Based Handprint Recognition System, NISTIR 5469,\\n1994.\\n\\n.. topic:: References\\n\\n  - C. Kaynak (1995) Methods of Combining Multiple Classifiers and Their\\n    Applications to Handwritten Digit Recognition, MSc Thesis, Institute of\\n    Graduate Studies in Science and Engineering, Bogazici University.\\n  - E. Alpaydin, C. Kaynak (1998) Cascading Classifiers, Kybernetika.\\n  - Ken Tang and Ponnuthurai N. Suganthan and Xi Yao and A. Kai Qin.\\n    Linear dimensionalityreduction using relevance weighted LDA. School of\\n    Electrical and Electronic Engineering Nanyang Technological University.\\n    2005.\\n  - Claudio Gentile. A New Approximate Maximal Margin Classification\\n    Algorithm. NIPS. 2000.\\n\"}"
      ]
     },
     "execution_count": 3,
     "metadata": {},
     "output_type": "execute_result"
    }
   ],
   "source": [
    "digits"
   ]
  },
  {
   "cell_type": "code",
   "execution_count": 4,
   "id": "3b990366",
   "metadata": {},
   "outputs": [],
   "source": [
    "x = digits.data\n",
    "y = digits.target"
   ]
  },
  {
   "cell_type": "code",
   "execution_count": 5,
   "id": "e64d0532",
   "metadata": {},
   "outputs": [
    {
     "data": {
      "text/plain": [
       "(1797, 64)"
      ]
     },
     "execution_count": 5,
     "metadata": {},
     "output_type": "execute_result"
    }
   ],
   "source": [
    "x.shape"
   ]
  },
  {
   "cell_type": "code",
   "execution_count": 7,
   "id": "294de8f7",
   "metadata": {
    "collapsed": true
   },
   "outputs": [
    {
     "data": {
      "text/plain": [
       "array([[ 0.,  0.,  1.,  9., 15., 11.,  0.,  0.],\n",
       "       [ 0.,  0., 11., 16.,  8., 14.,  6.,  0.],\n",
       "       [ 0.,  2., 16., 10.,  0.,  9.,  9.,  0.],\n",
       "       [ 0.,  1., 16.,  4.,  0.,  8.,  8.,  0.],\n",
       "       [ 0.,  4., 16.,  4.,  0.,  8.,  8.,  0.],\n",
       "       [ 0.,  1., 16.,  5.,  1., 11.,  3.,  0.],\n",
       "       [ 0.,  0., 12., 12., 10., 10.,  0.,  0.],\n",
       "       [ 0.,  0.,  1., 10., 13.,  3.,  0.,  0.]])"
      ]
     },
     "execution_count": 7,
     "metadata": {},
     "output_type": "execute_result"
    }
   ],
   "source": [
    "x[10].reshape(8,8)"
   ]
  },
  {
   "cell_type": "code",
   "execution_count": 8,
   "id": "a427d25b",
   "metadata": {
    "collapsed": true
   },
   "outputs": [
    {
     "data": {
      "text/plain": [
       "<matplotlib.image.AxesImage at 0x1327214e4f0>"
      ]
     },
     "execution_count": 8,
     "metadata": {},
     "output_type": "execute_result"
    },
    {
     "data": {
      "image/png": "[encoded data removed]",
      "text/plain": [
       "<Figure size 432x288 with 1 Axes>"
      ]
     },
     "metadata": {
      "needs_background": "light"
     },
     "output_type": "display_data"
    }
   ],
   "source": [
    "plt.imshow(x[10].reshape(8,8))"
   ]
  },
  {
   "cell_type": "code",
   "execution_count": 9,
   "id": "268aa481",
   "metadata": {
    "collapsed": true
   },
   "outputs": [
    {
     "data": {
      "text/plain": [
       "0"
      ]
     },
     "execution_count": 9,
     "metadata": {},
     "output_type": "execute_result"
    }
   ],
   "source": [
    "y[10]"
   ]
  },
  {
   "cell_type": "code",
   "execution_count": null,
   "id": "e9e0abc1",
   "metadata": {},
   "outputs": [],
   "source": []
  },
  {
   "cell_type": "code",
   "execution_count": 13,
   "id": "54be887b",
   "metadata": {},
   "outputs": [
    {
     "data": {
      "image/png": "[encoded data removed]",
      "text/plain": [
       "<Figure size 1440x720 with 10 Axes>"
      ]
     },
     "metadata": {
      "needs_background": "light"
     },
     "output_type": "display_data"
    }
   ],
   "source": [
    "samples = x[:10].reshape(10, 8,8)\n",
    "fig, axes = plt.subplots(nrows=2, ncols=5, figsize=(20,10))\n",
    "for idx, sample in enumerate(samples):\n",
    "    axes[idx//5, idx%5].imshow(sample, cmap='gray')"
   ]
  },
  {
   "cell_type": "code",
   "execution_count": null,
   "id": "d14d75a2",
   "metadata": {},
   "outputs": [],
   "source": []
  },
  {
   "cell_type": "code",
   "execution_count": 21,
   "id": "76a84c1d",
   "metadata": {},
   "outputs": [],
   "source": [
    "from sklearn.preprocessing import StandardScaler\n",
    "scaler = StandardScaler()\n",
    "scaled_x = scaler.fit_transform(x)"
   ]
  },
  {
   "cell_type": "code",
   "execution_count": 22,
   "id": "11bfa7ad",
   "metadata": {
    "collapsed": true
   },
   "outputs": [
    {
     "data": {
      "text/plain": [
       "array([[ 0.        , -0.33501649, -0.04308102, ..., -1.14664746,\n",
       "        -0.5056698 , -0.19600752],\n",
       "       [ 0.        , -0.33501649, -1.09493684, ...,  0.54856067,\n",
       "        -0.5056698 , -0.19600752],\n",
       "       [ 0.        , -0.33501649, -1.09493684, ...,  1.56568555,\n",
       "         1.6951369 , -0.19600752],\n",
       "       ...,\n",
       "       [ 0.        , -0.33501649, -0.88456568, ..., -0.12952258,\n",
       "        -0.5056698 , -0.19600752],\n",
       "       [ 0.        , -0.33501649, -0.67419451, ...,  0.8876023 ,\n",
       "        -0.5056698 , -0.19600752],\n",
       "       [ 0.        , -0.33501649,  1.00877481, ...,  0.8876023 ,\n",
       "        -0.26113572, -0.19600752]])"
      ]
     },
     "execution_count": 22,
     "metadata": {},
     "output_type": "execute_result"
    }
   ],
   "source": [
    "scaled_x"
   ]
  },
  {
   "cell_type": "code",
   "execution_count": 23,
   "id": "2289972d",
   "metadata": {},
   "outputs": [
    {
     "data": {
      "text/plain": [
       "(1797, 64)"
      ]
     },
     "execution_count": 23,
     "metadata": {},
     "output_type": "execute_result"
    }
   ],
   "source": [
    "scaled_x.shape"
   ]
  },
  {
   "cell_type": "code",
   "execution_count": null,
   "id": "fec8923d",
   "metadata": {},
   "outputs": [],
   "source": []
  },
  {
   "cell_type": "code",
   "execution_count": 24,
   "id": "b8a7dc80",
   "metadata": {},
   "outputs": [],
   "source": [
    "from sklearn.decomposition import PCA\n",
    "pca = PCA()"
   ]
  },
  {
   "cell_type": "code",
   "execution_count": 26,
   "id": "ebf6e729",
   "metadata": {},
   "outputs": [
    {
     "data": {
      "text/plain": [
       "PCA()"
      ]
     },
     "execution_count": 26,
     "metadata": {},
     "output_type": "execute_result"
    }
   ],
   "source": [
    "pca.fit(scaled_x)"
   ]
  },
  {
   "cell_type": "code",
   "execution_count": null,
   "id": "bc81fc3d",
   "metadata": {},
   "outputs": [],
   "source": []
  },
  {
   "cell_type": "code",
   "execution_count": 28,
   "id": "0892c681",
   "metadata": {},
   "outputs": [
    {
     "data": {
      "text/plain": [
       "64"
      ]
     },
     "execution_count": 28,
     "metadata": {},
     "output_type": "execute_result"
    }
   ],
   "source": [
    "# 설명된 분산..\n",
    "# 64차원 데이터 => 64개의 주성분 생성\n",
    "# 각 주성분이 설명해주는 데이터 분산의 크기..\n",
    "\n",
    "len(pca.explained_variance_)"
   ]
  },
  {
   "cell_type": "code",
   "execution_count": 29,
   "id": "5f819028",
   "metadata": {
    "collapsed": true
   },
   "outputs": [
    {
     "data": {
      "text/plain": [
       "array([7.34477606e+00, 5.83549054e+00, 5.15396118e+00, 3.96623597e+00,\n",
       "       2.96634520e+00, 2.57204442e+00, 2.40600941e+00, 2.06867355e+00,\n",
       "       1.82993314e+00, 1.78951739e+00, 1.69784616e+00, 1.57287889e+00,\n",
       "       1.38870781e+00, 1.35933609e+00, 1.32152536e+00, 1.16829176e+00,\n",
       "       1.08368678e+00, 9.99778617e-01, 9.74382931e-01, 9.08912418e-01,\n",
       "       8.22719264e-01, 7.76310139e-01, 7.11556753e-01, 6.45523648e-01,\n",
       "       5.95273988e-01, 5.76501797e-01, 5.26731552e-01, 5.10636301e-01,\n",
       "       4.86863813e-01, 4.55601071e-01, 4.42851552e-01, 4.22300863e-01,\n",
       "       3.99106303e-01, 3.91101111e-01, 3.60945168e-01, 3.48603059e-01,\n",
       "       3.19596300e-01, 2.94066271e-01, 2.76922851e-01, 2.58273004e-01,\n",
       "       2.47830286e-01, 2.42356600e-01, 2.17581996e-01, 2.07995927e-01,\n",
       "       2.00090902e-01, 1.89835165e-01, 1.76128942e-01, 1.68752359e-01,\n",
       "       1.58184741e-01, 1.43114274e-01, 1.33210813e-01, 1.24263708e-01,\n",
       "       1.19328984e-01, 1.11886547e-01, 1.02504338e-01, 9.84087608e-02,\n",
       "       9.01854301e-02, 8.24681230e-02, 7.63539426e-02, 6.32896150e-02,\n",
       "       5.03744402e-02, 1.97430140e-31, 3.90222011e-32, 3.84266959e-32])"
      ]
     },
     "execution_count": 29,
     "metadata": {},
     "output_type": "execute_result"
    }
   ],
   "source": [
    "# 설명된 분산..\n",
    "\n",
    "pca.explained_variance_"
   ]
  },
  {
   "cell_type": "code",
   "execution_count": 30,
   "id": "bcca6f33",
   "metadata": {
    "collapsed": true
   },
   "outputs": [
    {
     "data": {
      "text/plain": [
       "[<matplotlib.lines.Line2D at 0x13272a05b80>]"
      ]
     },
     "execution_count": 30,
     "metadata": {},
     "output_type": "execute_result"
    },
    {
     "data": {
      "image/png": "[encoded data removed]",
      "text/plain": [
       "<Figure size 432x288 with 1 Axes>"
      ]
     },
     "metadata": {
      "needs_background": "light"
     },
     "output_type": "display_data"
    }
   ],
   "source": [
    "plt.plot(pca.explained_variance_)"
   ]
  },
  {
   "cell_type": "code",
   "execution_count": 31,
   "id": "0c88d2e6",
   "metadata": {
    "collapsed": true
   },
   "outputs": [
    {
     "data": {
      "text/plain": [
       "array([1.20339161e-01, 9.56105440e-02, 8.44441489e-02, 6.49840791e-02,\n",
       "       4.86015488e-02, 4.21411987e-02, 3.94208280e-02, 3.38938092e-02,\n",
       "       2.99822101e-02, 2.93200255e-02, 2.78180546e-02, 2.57705509e-02,\n",
       "       2.27530332e-02, 2.22717974e-02, 2.16522943e-02, 1.91416661e-02,\n",
       "       1.77554709e-02, 1.63806927e-02, 1.59646017e-02, 1.48919119e-02,\n",
       "       1.34796957e-02, 1.27193137e-02, 1.16583735e-02, 1.05764660e-02,\n",
       "       9.75315947e-03, 9.44558990e-03, 8.63013827e-03, 8.36642854e-03,\n",
       "       7.97693248e-03, 7.46471371e-03, 7.25582151e-03, 6.91911245e-03,\n",
       "       6.53908536e-03, 6.40792574e-03, 5.91384112e-03, 5.71162405e-03,\n",
       "       5.23636803e-03, 4.81807586e-03, 4.53719260e-03, 4.23162753e-03,\n",
       "       4.06053070e-03, 3.97084808e-03, 3.56493303e-03, 3.40787181e-03,\n",
       "       3.27835335e-03, 3.11032007e-03, 2.88575294e-03, 2.76489264e-03,\n",
       "       2.59174941e-03, 2.34483006e-03, 2.18256858e-03, 2.03597635e-03,\n",
       "       1.95512426e-03, 1.83318499e-03, 1.67946387e-03, 1.61236062e-03,\n",
       "       1.47762694e-03, 1.35118411e-03, 1.25100742e-03, 1.03695730e-03,\n",
       "       8.25350945e-04, 3.23475858e-33, 6.39352227e-34, 6.29595280e-34])"
      ]
     },
     "execution_count": 31,
     "metadata": {},
     "output_type": "execute_result"
    }
   ],
   "source": [
    "pca.explained_variance_ratio_"
   ]
  },
  {
   "cell_type": "code",
   "execution_count": 35,
   "id": "22b99ef2",
   "metadata": {
    "collapsed": true
   },
   "outputs": [
    {
     "data": {
      "text/plain": [
       "[<matplotlib.lines.Line2D at 0x132735268b0>]"
      ]
     },
     "execution_count": 35,
     "metadata": {},
     "output_type": "execute_result"
    },
    {
     "data": {
      "image/png": "[encoded data removed]",
      "text/plain": [
       "<Figure size 432x288 with 1 Axes>"
      ]
     },
     "metadata": {
      "needs_background": "light"
     },
     "output_type": "display_data"
    }
   ],
   "source": [
    "plt.plot(pca.explained_variance_ratio_)\n",
    "plt.plot(pca.explained_variance_ratio_.cumsum(), linestyle='--')"
   ]
  },
  {
   "cell_type": "code",
   "execution_count": null,
   "id": "fa96a121",
   "metadata": {},
   "outputs": [],
   "source": []
  },
  {
   "cell_type": "code",
   "execution_count": null,
   "id": "fe44e1d0",
   "metadata": {},
   "outputs": [],
   "source": [
    "# 실제 사용 - n개의 주성분..\n",
    "\n",
    "# 전체 주성분의 값을 사용하지 않음..\n",
    "# 주성분의 개수를 지정하거나 설명되는 분산의 비율값을 사용함.."
   ]
  },
  {
   "cell_type": "code",
   "execution_count": 36,
   "id": "dd1d5966",
   "metadata": {},
   "outputs": [
    {
     "data": {
      "text/plain": [
       "PCA(n_components=0.8)"
      ]
     },
     "execution_count": 36,
     "metadata": {},
     "output_type": "execute_result"
    }
   ],
   "source": [
    "# 데이터의 분산의 80%까지 표현하는 주성분을 리턴..\n",
    "ratio_pca = PCA(n_components=0.8)\n",
    "ratio_pca.fit(scaled_x)"
   ]
  },
  {
   "cell_type": "code",
   "execution_count": 37,
   "id": "2c8d3e2c",
   "metadata": {
    "collapsed": true
   },
   "outputs": [
    {
     "data": {
      "text/plain": [
       "array([0.12033916, 0.09561054, 0.08444415, 0.06498408, 0.04860155,\n",
       "       0.0421412 , 0.03942083, 0.03389381, 0.02998221, 0.02932003,\n",
       "       0.02781805, 0.02577055, 0.02275303, 0.0222718 , 0.02165229,\n",
       "       0.01914167, 0.01775547, 0.01638069, 0.0159646 , 0.01489191,\n",
       "       0.0134797 ])"
      ]
     },
     "execution_count": 37,
     "metadata": {},
     "output_type": "execute_result"
    }
   ],
   "source": [
    "ratio_pca.explained_variance_ratio_"
   ]
  },
  {
   "cell_type": "code",
   "execution_count": 38,
   "id": "346d7a1a",
   "metadata": {
    "collapsed": true
   },
   "outputs": [
    {
     "data": {
      "text/plain": [
       "array([0.12033916, 0.21594971, 0.30039385, 0.36537793, 0.41397948,\n",
       "       0.45612068, 0.49554151, 0.52943532, 0.55941753, 0.58873755,\n",
       "       0.61655561, 0.64232616, 0.66507919, 0.68735099, 0.70900328,\n",
       "       0.72814495, 0.74590042, 0.76228111, 0.77824572, 0.79313763,\n",
       "       0.80661732])"
      ]
     },
     "execution_count": 38,
     "metadata": {},
     "output_type": "execute_result"
    }
   ],
   "source": [
    "ratio_pca.explained_variance_ratio_.cumsum()"
   ]
  },
  {
   "cell_type": "code",
   "execution_count": 39,
   "id": "b8325e14",
   "metadata": {
    "collapsed": true
   },
   "outputs": [
    {
     "data": {
      "text/plain": [
       "[<matplotlib.lines.Line2D at 0x132735957c0>]"
      ]
     },
     "execution_count": 39,
     "metadata": {},
     "output_type": "execute_result"
    },
    {
     "data": {
      "image/png": "[encoded data removed]",
      "text/plain": [
       "<Figure size 432x288 with 1 Axes>"
      ]
     },
     "metadata": {
      "needs_background": "light"
     },
     "output_type": "display_data"
    }
   ],
   "source": [
    "plt.plot(ratio_pca.explained_variance_ratio_)\n",
    "plt.plot(ratio_pca.explained_variance_ratio_.cumsum(), linestyle='--')"
   ]
  },
  {
   "cell_type": "code",
   "execution_count": 40,
   "id": "df72be79",
   "metadata": {},
   "outputs": [
    {
     "data": {
      "text/plain": [
       "21"
      ]
     },
     "execution_count": 40,
     "metadata": {},
     "output_type": "execute_result"
    }
   ],
   "source": [
    "ratio_pca.n_components_"
   ]
  },
  {
   "cell_type": "code",
   "execution_count": 41,
   "id": "980bcba1",
   "metadata": {},
   "outputs": [],
   "source": [
    "# n개의 주성분을 사용.."
   ]
  },
  {
   "cell_type": "code",
   "execution_count": 42,
   "id": "3cf61c77",
   "metadata": {},
   "outputs": [
    {
     "data": {
      "text/plain": [
       "PCA(n_components=8)"
      ]
     },
     "execution_count": 42,
     "metadata": {},
     "output_type": "execute_result"
    }
   ],
   "source": [
    "n_comp_pca = PCA(n_components=8)\n",
    "n_comp_pca.fit(scaled_x)"
   ]
  },
  {
   "cell_type": "code",
   "execution_count": 44,
   "id": "cb5f2a80",
   "metadata": {
    "collapsed": true
   },
   "outputs": [
    {
     "data": {
      "text/plain": [
       "array([0.12033916, 0.09561053, 0.08444411, 0.06498348, 0.04859982,\n",
       "       0.04213462, 0.03940133, 0.03386796])"
      ]
     },
     "execution_count": 44,
     "metadata": {},
     "output_type": "execute_result"
    }
   ],
   "source": [
    "n_comp_pca.explained_variance_ratio_"
   ]
  },
  {
   "cell_type": "code",
   "execution_count": 45,
   "id": "43441b00",
   "metadata": {
    "collapsed": true
   },
   "outputs": [
    {
     "data": {
      "text/plain": [
       "array([0.12033916, 0.21594969, 0.3003938 , 0.36537729, 0.4139771 ,\n",
       "       0.45611172, 0.49551305, 0.52938101])"
      ]
     },
     "execution_count": 45,
     "metadata": {},
     "output_type": "execute_result"
    }
   ],
   "source": [
    "n_comp_pca.explained_variance_ratio_.cumsum()"
   ]
  },
  {
   "cell_type": "code",
   "execution_count": 46,
   "id": "5e99b05d",
   "metadata": {
    "collapsed": true
   },
   "outputs": [
    {
     "data": {
      "text/plain": [
       "[<matplotlib.lines.Line2D at 0x13273617070>]"
      ]
     },
     "execution_count": 46,
     "metadata": {},
     "output_type": "execute_result"
    },
    {
     "data": {
      "image/png": "[encoded data removed]",
      "text/plain": [
       "<Figure size 432x288 with 1 Axes>"
      ]
     },
     "metadata": {
      "needs_background": "light"
     },
     "output_type": "display_data"
    }
   ],
   "source": [
    "plt.plot(n_comp_pca.explained_variance_ratio_.cumsum())"
   ]
  },
  {
   "cell_type": "code",
   "execution_count": null,
   "id": "9e558964",
   "metadata": {},
   "outputs": [],
   "source": []
  },
  {
   "cell_type": "code",
   "execution_count": null,
   "id": "7f9852bc",
   "metadata": {},
   "outputs": [],
   "source": [
    "# 시각화 : 2차원 또는 3차원 데이터까지 가능..\n",
    "# 64차원 scaled_x data를 2 차원 데이터로 차원을 축소해서 시각화하기.."
   ]
  },
  {
   "cell_type": "code",
   "execution_count": 51,
   "id": "02b95249",
   "metadata": {},
   "outputs": [
    {
     "data": {
      "text/plain": [
       "array([[ 1.91421439, -0.95450389],\n",
       "       [ 0.58896856,  0.92461898],\n",
       "       [ 1.30207434, -0.31710748],\n",
       "       ...,\n",
       "       [ 1.02262134, -0.14787377],\n",
       "       [ 1.07603269, -0.38095879],\n",
       "       [-1.25769068, -2.22758604]])"
      ]
     },
     "execution_count": 51,
     "metadata": {},
     "output_type": "execute_result"
    }
   ],
   "source": [
    "n_comp_pca = PCA(n_components = 2)\n",
    "viz_pca_latent = n_comp_pca.fit_transform(scaled_x)\n",
    "viz_pca_latent"
   ]
  },
  {
   "cell_type": "code",
   "execution_count": 57,
   "id": "6bff1d78",
   "metadata": {},
   "outputs": [
    {
     "data": {
      "text/plain": [
       "array([0, 1, 2, ..., 8, 9, 8])"
      ]
     },
     "execution_count": 57,
     "metadata": {},
     "output_type": "execute_result"
    }
   ],
   "source": [
    "y"
   ]
  },
  {
   "cell_type": "code",
   "execution_count": 58,
   "id": "0307947e",
   "metadata": {},
   "outputs": [],
   "source": [
    "def visualize_latent_space_with_label(latent):\n",
    "    for label in np.unique(y):\n",
    "        index = y == label\n",
    "        comp_x = latent[index, 0]\n",
    "        comp_y = latent[index, 1]\n",
    "        plt.scatter(comp_x, comp_y)#, c='{}'.format(label), label=label)\n",
    "    plt.legend()"
   ]
  },
  {
   "cell_type": "code",
   "execution_count": 59,
   "id": "ca287717",
   "metadata": {},
   "outputs": [
    {
     "name": "stderr",
     "output_type": "stream",
     "text": [
      "No handles with labels found to put in legend.\n"
     ]
    },
    {
     "data": {
      "image/png": "[encoded data removed]",
      "text/plain": [
       "<Figure size 432x288 with 1 Axes>"
      ]
     },
     "metadata": {
      "needs_background": "light"
     },
     "output_type": "display_data"
    }
   ],
   "source": [
    "visualize_latent_space_with_label(viz_pca_latent)"
   ]
  },
  {
   "cell_type": "code",
   "execution_count": null,
   "id": "e2eb60cc",
   "metadata": {},
   "outputs": [],
   "source": []
  },
  {
   "cell_type": "code",
   "execution_count": 62,
   "id": "cfded3e3",
   "metadata": {},
   "outputs": [],
   "source": [
    "from sklearn.ensemble import RandomForestClassifier\n",
    "from sklearn.model_selection import train_test_split"
   ]
  },
  {
   "cell_type": "code",
   "execution_count": 63,
   "id": "ad954f5a",
   "metadata": {},
   "outputs": [
    {
     "data": {
      "text/plain": [
       "0.9688888888888889"
      ]
     },
     "execution_count": 63,
     "metadata": {},
     "output_type": "execute_result"
    }
   ],
   "source": [
    "rfc = RandomForestClassifier()\n",
    "\n",
    "x_train, x_test, y_train, y_test = train_test_split(x,y, random_state=111)\n",
    "\n",
    "rfc.fit(x_train, y_train)\n",
    "rfc.score(x_test, y_test)"
   ]
  },
  {
   "cell_type": "code",
   "execution_count": 64,
   "id": "e80759a5",
   "metadata": {},
   "outputs": [
    {
     "data": {
      "text/plain": [
       "0.5644444444444444"
      ]
     },
     "execution_count": 64,
     "metadata": {},
     "output_type": "execute_result"
    }
   ],
   "source": [
    "rfc = RandomForestClassifier()\n",
    "\n",
    "x_train, x_test, y_train, y_test = train_test_split(viz_pca_latent,y, random_state=111)\n",
    "\n",
    "rfc.fit(x_train, y_train)\n",
    "rfc.score(x_test, y_test)"
   ]
  },
  {
   "cell_type": "code",
   "execution_count": null,
   "id": "834d7f9d",
   "metadata": {},
   "outputs": [],
   "source": []
  },
  {
   "cell_type": "code",
   "execution_count": 66,
   "id": "bf6b4774",
   "metadata": {},
   "outputs": [
    {
     "data": {
      "text/plain": [
       "0.96"
      ]
     },
     "execution_count": 66,
     "metadata": {},
     "output_type": "execute_result"
    }
   ],
   "source": [
    "n_comp_pca = PCA(n_components = 30)\n",
    "viz_pca_latent = n_comp_pca.fit_transform(scaled_x)\n",
    "\n",
    "rfc = RandomForestClassifier()\n",
    "\n",
    "x_train, x_test, y_train, y_test = train_test_split(viz_pca_latent,y, random_state=111)\n",
    "\n",
    "rfc.fit(x_train, y_train)\n",
    "rfc.score(x_test, y_test)"
   ]
  },
  {
   "cell_type": "code",
   "execution_count": null,
   "id": "6405773f",
   "metadata": {},
   "outputs": [],
   "source": []
  }
 ],
 "metadata": {
  "kernelspec": {
   "display_name": "Python 3 (ipykernel)",
   "language": "python",
   "name": "python3"
  },
  "language_info": {
   "codemirror_mode": {
    "name": "ipython",
    "version": 3
   },
   "file_extension": ".py",
   "mimetype": "text/x-python",
   "name": "python",
   "nbconvert_exporter": "python",
   "pygments_lexer": "ipython3",
   "version": "3.10.1"
  }
 },
 "nbformat": 4,
 "nbformat_minor": 5
}
